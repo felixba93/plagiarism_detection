{
 "cells": [
  {
   "cell_type": "markdown",
   "metadata": {},
   "source": [
    "# Wikipedia Corpus\n",
    "\n",
    "Corpus from: https://dumps.wikimedia.org/dewiki/20200820/\n",
    "\n",
    "Sentences for comparison from: https://github.com/t-systems-on-site-services-gmbh/german-wikipedia-text-corpus"
   ]
  },
  {
   "cell_type": "code",
   "execution_count": 1,
   "metadata": {},
   "outputs": [],
   "source": [
    "#imports\n",
    "from xml.etree.ElementTree import *\n",
    "import xml.etree.ElementTree as ET\n",
    "from collections import Counter\n",
    "import os\n",
    "import pprint\n",
    "import gensim\n",
    "from gensim import corpora\n",
    "from gensim import models\n",
    "from gensim import similarities\n",
    "from gensim.corpora import Dictionary\n",
    "from gensim.models import LdaModel\n",
    "from gensim.models import LdaMulticore\n",
    "import nltk\n",
    "from nltk.corpus import stopwords\n",
    "from smart_open import open \n",
    "import spacy\n",
    "import de_core_news_md\n",
    "\n",
    "\n",
    "from functions import *"
   ]
  },
  {
   "cell_type": "markdown",
   "metadata": {},
   "source": [
    "### Global Variables"
   ]
  },
  {
   "cell_type": "code",
   "execution_count": 2,
   "metadata": {},
   "outputs": [],
   "source": [
    "# the XML-file\n",
    "xml_file = \"data/wiki_corpus/dewiki-20200820-pages-articles-multistream.xml\"\n",
    "\n",
    "# number of documents to parse \n",
    "num_documents = 200\n"
   ]
  },
  {
   "cell_type": "markdown",
   "metadata": {},
   "source": [
    "## Preprocessing"
   ]
  },
  {
   "cell_type": "markdown",
   "metadata": {},
   "source": [
    "To be able to return the title of a given article later on, we need to store those in a dictionary:"
   ]
  },
  {
   "cell_type": "code",
   "execution_count": 3,
   "metadata": {},
   "outputs": [],
   "source": [
    "title_ids = get_titles(xml_file)"
   ]
  },
  {
   "cell_type": "markdown",
   "metadata": {},
   "source": [
    "## Build the corpus"
   ]
  },
  {
   "cell_type": "markdown",
   "metadata": {},
   "source": [
    "Create a corpus from the text contents of the XML file."
   ]
  },
  {
   "cell_type": "markdown",
   "metadata": {},
   "source": [
    "1. Corpus is defined as a class object, so it can be called when needed.\n",
    "2. Loops through the XML-file, searching for closing \"text\" tags.\n",
    "3. Returns the text contents from these nodes in preprocessed form.\n",
    "4. Then clears the current node from memory"
   ]
  },
  {
   "cell_type": "code",
   "execution_count": 9,
   "metadata": {},
   "outputs": [],
   "source": [
    "# Define the corpus as an object\n",
    "class MyCorpus:\n",
    "    def __iter__(self):\n",
    "        # define the XML tree\n",
    "        for event, elem in ET.iterparse(xml_file, events = (\"start\", \"end\")):            \n",
    "            # Each document is represented as an object between <text> tags in the xml file\n",
    "            if event == 'end' and \"text\" in elem.tag:\n",
    "                # Transfom the corpus to vectors\n",
    "                yield dictionary.doc2bow(preprocess_text(elem.text))\n",
    "                # clear the node\n",
    "                elem.clear()                "
   ]
  },
  {
   "cell_type": "markdown",
   "metadata": {},
   "source": [
    "Initialize the corpus, without loading it into memory, this is not needed when working with the smaller corpus."
   ]
  },
  {
   "cell_type": "code",
   "execution_count": 4,
   "metadata": {},
   "outputs": [],
   "source": [
    "corpus = MyCorpus(xml_file)"
   ]
  },
  {
   "cell_type": "markdown",
   "metadata": {},
   "source": [
    "The whole corpus is too big for this experiment and takes too long to parse through. For our proof-of-concept approach we therefore propose a function which only loops through the first i documents (text nodes) in the XML tree:"
   ]
  },
  {
   "cell_type": "code",
   "execution_count": 4,
   "metadata": {},
   "outputs": [],
   "source": [
    "# Define a smaller corpus, containing only the first i documents:\n",
    "class MyCorpus_small:\n",
    "    def __iter__(self):\n",
    "        index = 0\n",
    "        # define the XML tree\n",
    "        for event, elem in ET.iterparse(xml_file, events = (\"start\", \"end\")):\n",
    "            if index < num_documents:\n",
    "                # Each document is represented as an object between <text> tags in the xml file\n",
    "                if event == 'end' and \"text\" in elem.tag:\n",
    "                    # Transfom the corpus to vectors\n",
    "                    yield dictionary.doc2bow(preprocess_text(elem.text))\n",
    "                    index+=1\n",
    "                    # clear the node\n",
    "                    elem.clear()\n",
    "            else:\n",
    "                break    "
   ]
  },
  {
   "cell_type": "markdown",
   "metadata": {},
   "source": [
    "Initialize the smaller corpus, again without loading it into memory:"
   ]
  },
  {
   "cell_type": "code",
   "execution_count": 5,
   "metadata": {},
   "outputs": [],
   "source": [
    "corpus_small = MyCorpus_small()"
   ]
  },
  {
   "cell_type": "markdown",
   "metadata": {},
   "source": [
    "---"
   ]
  },
  {
   "cell_type": "markdown",
   "metadata": {},
   "source": [
    "## Build the Dictionary\n",
    "\n",
    "To further work with the corpus in vector form, we need to build a dictionary. \n",
    "\n",
    "This function needs to be called only once, since we are able to save the dictionary created by it and load it in future use."
   ]
  },
  {
   "cell_type": "markdown",
   "metadata": {},
   "source": [
    "__DO NOT RUN THE FOLLOWING CODE IF THE DICTIONARY CAN BE LOADED FROM A FILE__"
   ]
  },
  {
   "cell_type": "code",
   "execution_count": 42,
   "metadata": {},
   "outputs": [
    {
     "name": "stdout",
     "output_type": "stream",
     "text": [
      "Wall time: 2min 12s\n"
     ]
    }
   ],
   "source": [
    "%%time\n",
    "# build the dictionary:\n",
    "dictionary = build_dictionary(xml_file)"
   ]
  },
  {
   "cell_type": "code",
   "execution_count": 43,
   "metadata": {},
   "outputs": [
    {
     "name": "stdout",
     "output_type": "stream",
     "text": [
      "Wall time: 43 ms\n"
     ]
    }
   ],
   "source": [
    "%%time\n",
    "# remove words that appear only once\n",
    "once_ids = [tokenid for tokenid, docfreq in dictionary.dfs.items() if docfreq == 1]\n",
    "dictionary.filter_tokens(once_ids)\n",
    "# remove gaps in id sequence after words that were removed\n",
    "dictionary.compactify()"
   ]
  },
  {
   "cell_type": "code",
   "execution_count": 44,
   "metadata": {},
   "outputs": [],
   "source": [
    "#save the dictionary\n",
    "dictionary.save('data/wiki_200_new.dict')"
   ]
  },
  {
   "cell_type": "markdown",
   "metadata": {},
   "source": [
    "__CONTINUE HERE TO LOAD THE DICTIONARY__"
   ]
  },
  {
   "cell_type": "code",
   "execution_count": 6,
   "metadata": {},
   "outputs": [],
   "source": [
    "#load the dictionary\n",
    "dictionary = Dictionary.load('data/wiki_200_new.dict')"
   ]
  },
  {
   "cell_type": "code",
   "execution_count": 6,
   "metadata": {},
   "outputs": [
    {
     "name": "stdout",
     "output_type": "stream",
     "text": [
      "Dictionary(20308 unique tokens: ['abc', 'abkehr', 'ablehnen', 'abrufen', 'abschluss']...)\n"
     ]
    }
   ],
   "source": [
    "# check if the dictionary has been loaded \n",
    "print(dictionary)"
   ]
  },
  {
   "cell_type": "markdown",
   "metadata": {},
   "source": [
    "---"
   ]
  },
  {
   "cell_type": "markdown",
   "metadata": {},
   "source": [
    "## Similarity with LDA (Latent Dirichlet Allocation)"
   ]
  },
  {
   "cell_type": "markdown",
   "metadata": {},
   "source": [
    "### Train the LDA model"
   ]
  },
  {
   "cell_type": "markdown",
   "metadata": {},
   "source": [
    "Parameters:\n",
    "* corpus: the corpus\n",
    "* num_topics: topics to be extracted from the training corpus\n",
    "* id2word: id to word mapping, the dictionary\n",
    "* workers: number of cpu cores used\n",
    "\n",
    "The trained model can be stored and loaded, as same as the dictionary before."
   ]
  },
  {
   "cell_type": "code",
   "execution_count": 9,
   "metadata": {},
   "outputs": [
    {
     "name": "stdout",
     "output_type": "stream",
     "text": [
      "Wall time: 4min 30s\n"
     ]
    }
   ],
   "source": [
    "%%time\n",
    "lda = LdaMulticore(corpus_small, num_topics=200, id2word=dictionary)"
   ]
  },
  {
   "cell_type": "markdown",
   "metadata": {},
   "source": [
    "First experiments have shown that a topic number of 10 (default) is too low. 100 resulted in better disctinction between the different articles.\n",
    "__Further fine tuning needed here__"
   ]
  },
  {
   "cell_type": "code",
   "execution_count": 10,
   "metadata": {},
   "outputs": [],
   "source": [
    "#save the trained model\n",
    "lda.save(\"data/lda_model_200_t200.txt\")"
   ]
  },
  {
   "cell_type": "code",
   "execution_count": 7,
   "metadata": {},
   "outputs": [],
   "source": [
    "#load the trained model\n",
    "lda = LdaModel.load(\"data/lda_model_200_t200.txt\")"
   ]
  },
  {
   "cell_type": "markdown",
   "metadata": {},
   "source": [
    "Index the corpus with the trained model:"
   ]
  },
  {
   "cell_type": "code",
   "execution_count": 8,
   "metadata": {
    "scrolled": true
   },
   "outputs": [
    {
     "name": "stdout",
     "output_type": "stream",
     "text": [
      "Wall time: 2min 14s\n"
     ]
    }
   ],
   "source": [
    "%%time\n",
    "corpus_index = similarities.MatrixSimilarity(list(lda[corpus_small]), num_features=len(dictionary))"
   ]
  },
  {
   "cell_type": "code",
   "execution_count": 31,
   "metadata": {},
   "outputs": [],
   "source": [
    "#save the index\n",
    "corpus_index.save(\"data/lda_index_200_t200.txt\")"
   ]
  },
  {
   "cell_type": "code",
   "execution_count": 9,
   "metadata": {},
   "outputs": [
    {
     "data": {
      "text/plain": [
       "<gensim.similarities.docsim.MatrixSimilarity at 0x18173db0130>"
      ]
     },
     "execution_count": 9,
     "metadata": {},
     "output_type": "execute_result"
    }
   ],
   "source": [
    "#load the index from disk\n",
    "corpus_index.load(\"data/lda_index_200_t200.txt\")"
   ]
  },
  {
   "cell_type": "markdown",
   "metadata": {},
   "source": [
    "## Similarity Check\n",
    "\n",
    "Now that we have a LDA model and an index we can check the similarity of an input document against all documents in our corpus."
   ]
  },
  {
   "cell_type": "code",
   "execution_count": 11,
   "metadata": {},
   "outputs": [],
   "source": [
    "# define document to use in similarity check\n",
    "test_document = open('data/wikibeispiele.txt', encoding='utf-8')\n",
    "test_document = test_document.read()"
   ]
  },
  {
   "cell_type": "code",
   "execution_count": 12,
   "metadata": {
    "scrolled": true
   },
   "outputs": [
    {
     "name": "stdout",
     "output_type": "stream",
     "text": [
      "﻿Der Kleinspecht (Dryobates minor, Syn.: Dendrocopos minor) ist eine Vogelart aus der Gattung der Buntspechte (Dendrocopos). Diese gehören zur Unterfamilie der Echten Spechte in der Familie der Spechte (Picidae).\n",
      "Die Art zählt mit einer Körperlänge von rund 15 cm zu den kleinsten Echten Spechten. Sie ist in 11 Unterarten über die gesamte westliche und nördliche Paläarktis bis an die asiatische Pazifikküste verbreitet.\n",
      "Der Kleinspecht ist ein typischer Vertreter der Buntspechte mit schwarz-weiß kontrastierendem Gefieder, trotzdem ist er in der West- und Zentralpaläarktis auf Grund seiner Kleinheit unverwechselbar\n",
      "Beide Geschlechter des Kleinspechtes sind fast während des gesamten Jahres sehr ruffreudig\n",
      "Der Höhepunkt der gesanglichen Aktivität liegt jedoch im Spätwinter und im zeitigen Frühjahr\n",
      "Die dichteste Verbreitung liegt in der planaren und collinen Stufe. Bedeutend seltener brüten Kleinspechte in Mitteleuropa in höhergelegenen Gebieten.\n",
      "Er bevorzugt Waldgebiete und Gehölze mit einem guten Bestand an alten, grobborkigen Laubbäumen. \n",
      "Die Nahrung des Kleinspechtes besteht fast während des gesamten Jahres aus kleinen baumbewohnenden Insekten\n",
      "Wie alle Spechte ist auch der Kleinspecht tagaktiv; seine Aktivität beginnt kurz vor Sonnenaufgang und endet kurz nach Sonnenuntergang\n",
      "Alfredo James „Al“ Pacino (* 25. April 1940 in New York) ist ein US-amerikanischer Schauspieler, Filmregisseur und Filmproduzent. Er gilt für viele Kritiker und Zuschauer als einer der herausragenden Charakterdarsteller des zeitgenössischen amerikanischen Films und Theaters. So ist er seit den 1970er Jahren in zahlreichen Filmklassikern zu sehen.\n",
      "m Laufe seiner Karriere wurde er unter anderem mit dem Oscar, dem Golden Globe Award, dem Tony Award und der National Medal of Arts ausgezeichnet. Seine bekanntesten Rollen sind die des Michael Corleone in der von Francis Ford Coppola inszenierten Der Pate-Trilogie und als Gangster Tony Montana in Scarface.\n",
      "Pacino interessierte sich schon als Kind für die Schauspielerei. Er verfeinerte sein Talent an zwei renommierten New Yorker Schauspielschulen, in Herbert Berghofs HB Studio und später bei Lee Strasberg im The Actors Studio. Dort spielte er in mehreren erfolgreichen Theaterstücken wie in seinem Debütstück The Connection und in The Indian Wants the Bronx, für das er mit einem Obie-Award ausgezeichnet wurde.\n",
      "Al Pacino war insgesamt neun Mal für einen Oscar nominiert. Seine erste Nominierung erhielt er 1973 für seine Rolle des Michael Corleone in Der Pate von Francis Ford Coppola. \n",
      "Angelina Jolie (* 4. Juni 1975 als Angelina Jolie Voight in Los Angeles, Kalifornien) ist eine US-amerikanisch-kambodschanische Schauspielerin, Filmregisseurin, Filmproduzentin und Drehbuchautorin. Während ihrer Ehe mit Brad Pitt trug sie den Namen Angelina Jolie Pitt.\n",
      "Sie wurde mit der Darstellung der Videospielheldin Lara Croft in Lara Croft: Tomb Raider (2001) international bekannt. \n",
      "Die erste leibliche Tochter des Paares wurde am 27. Mai 2006 in Namibia geboren. Für die Erlaubnis zur Veröffentlichung der ersten Fotos von Shiloh Nouvel Jolie-Pitt zahlte die Zeitschrift People dem Paar 4,1 Millionen US-Dollar – den bis dahin höchsten Preis für sogenannte „Celebrity-Fotos“.[75] Am 15. März 2007 adoptierte Jolie – wegen des vietnamesischen Adoptionsrechts zunächst allein – einen Jungen (* 29. November 2003) aus einem Waisenhaus in Ho-Chi-Minh-Stadt. Ein Jahr später wurde auch Pitts Adoption von Pax Thien rechtskräftig. Beim Filmfestival von Cannes im Mai 2008 bestätigte Jolie ihre Schwangerschaft mit Zwillingen. Knox Léon und Vivienne Marcheline Jolie-Pitt wurden am 12. Juli 2008 in Nizza geboren. Die Rechte an den ersten öffentlichen Fotos der Zwillinge gingen für 14 Millionen US-Dollar erneut an die Zeitschrift People.\n",
      "2000: Auszeichnung als Beste Nebendarstellerin für Durchgeknallt\n",
      "\"2008 zählte Jolie laut Forbes Magazine zu den am besten verdienenden Schauspielerinnen in Hollywood. Zwischen Juni 2007 und Juni 2008 erhielt sie Gagen in Höhe von 14 Millionen US-Dollar.[2011 hatte sie in einem neuerlichen Forbes-Ranking die Spitzenposition durch ihr Mitwirken in Salt und The Tourist (30 Millionen US-Dollar) gemeinsam mit Sarah Jessica Parker inne.\n",
      "Das Ausmaß der Berichterstattung über Jolie wird auch daran deutlich, dass sie zwischen Mai 2011 und Mai 2012 auf den Titelblättern von mindestens 78 Zeitschriften zu sehen war.\"\n",
      "Das Schloss Neuschwanstein steht oberhalb von Hohenschwangau bei Füssen im südöstlichen bayerischen Allgäu.\n",
      "Der Bau wurde ab 1869 für den bayerischen König Ludwig II. als idealisierte Vorstellung einer Ritterburg aus der Zeit des Mittelalters errichtet. Die Entwürfe stammen von Christian Jank, die Ausführung übernahmen Eduard Riedel und Georg von Dollmann. Der König lebte nur wenige Monate im Schloss, er starb noch vor der Fertigstellung der Anlage. \n",
      "Neuschwanstein gilt als Sinnbild für die Zeit der Romantik und ist weltweit bekannt. In amerikanischer Werbung ist es das meistgenutzte Schlossmotiv.So war zum Beispiel der Bau der Kemenate – die erst nach Ludwigs Tod vollendet wurde – eine direkte Reminiszenz an den zweiten Akt von Lohengrin, wo ein solches Gebäude einen der Schauplätze darstellte.\n",
      "Beim Tode des Königs in der Nähe von Schloss Berg am 13. Juni 1886 war Neuschwanstein noch nicht fertiggestellt. Ludwig II. wollte das Schloss niemals der Öffentlichkeit zugänglich machen[22], aber schon sechs Wochen nach seinem Tod wurde es für Besucher geöffnet. Mit den Eintrittsgeldern in Höhe von zwei Mark[29] pro Person wurde ein Teil der Kredite bezahlt. Die Schlösser fielen als Erbe an Ludwigs Bruder Otto, der schon 1872 für geisteskrank und damit nicht regierungsfähig erklärt worden war. \n",
      "Der mit Neuschwanstein verbundene Massentourismus ist für die Region jedoch nicht nur ein lukratives Geschäft, sondern bringt auch Probleme mit sich. Vor allem in den Sommermonaten ist die Verkehrssituation rund um die Königsschlösser Hohenschwangau und Neuschwanstein extrem angespannt. Der ausufernde Parksuchverkehr in Schwangau wirkt belastend auf die Bewohner, und der sich stauende Verkehr in der Augsburger Straße in Füssen ist zu einem Drittel auf den An- und Abreiseverkehr der Schlosstouristen zurückzuführen.[70] Seit über 20 Jahren stehen die Stadt Füssen und die Gemeinde Schwangau in Verhandlung zur Beseitigung ihrer Verkehrsprobleme, doch die verschiedenen Interessenlagen und gegensätzliche Positionen der Beteiligten führten bislang zu keiner Lösung.\n",
      "Der British Airways i360 ist ein 173 Meter hoher Aussichtsturm im südenglischen Brighton. Eröffnet wurde der von 2014 bis 2016 erbaute Turm am 4. August 2016. Die gleichzeitig als Aufzug genutzte verglaste, nicht drehbare Aussichtskanzel fährt bis zu einer Höhe von 138 Metern. Der i360 ist der höchste Aussichtsturm im Vereinigten Königreich und hat nach dem Hochhaus The Shard in London die zweithöchste öffentlich begehbare Aussichtsplattform des Landes.\n",
      "Gleichzeitig gehört das Bauwerk mit einem Höhen-Breiten-Verhältnis von mehr als 40 : 1 zu den schlanksten Türmen der Welt und zu den höchsten Aussichtstürmen mit beweglicher Aussichtskanzel. Der außergewöhnlichen Gestaltung und innovativen Technik wurde durch zahlreiche Preise Rechnung getragen.\n",
      "Bereits 2003 schlugen die Architekten David Marks (1953–2017) und Julia Barfield für Brighton eine Touristenattraktion vor – beide hatten Ende der 1990er Jahre das London Eye in London geplant. Da das Riesenrad für andere kleinere Städte zu teuer ausgefallen wäre, führte zur Überlegung, stattdessen einen speziellen Aussichtsturm als Wahrzeichen zu bauen.\n",
      "Der British Airways i360 wurde am 4. August 2016 im Beisein von Prince Philip eröffnet.[18] Mit seinen 173 Metern ist es mit Abstand das höchstes Bauwerk in der Grafschaft Sussex und neben dem 24-geschossigen und 102 Meter hohen Wohnhochhaus Sussex Heights[19] des schweizerisch-britischen Architekten Richard Seifert aus den 1960er Jahren das zweite über 100 Meter hohe Bauwerk in Brighton.[20] Die Kosten des Bauwerks wurden mit rund 46 Mio. Pfund beziffert.\n",
      "Die britische Monarchie ist die parlamentarische Monarchie des Vereinigten Königreichs Großbritannien und Nordirland. Gegenwärtige Monarchin ist seit dem 6. Februar 1952 Königin Elisabeth II.\n",
      " Die Königin besitzt zwar theoretisch die Befugnisse eines konstitutionellen Monarchen, übt ihre Hoheitsrechte aber aufgrund eines jahrhundertealten Gewohnheitsrechts nicht mehr selbstständig aus, sondern ausschließlich gemäß den Vorgaben von Parlament und Regierung. \n",
      "Der Monarch besitzt einen hohen symbolischen Stellenwert als „Zeichen der nationalen Einheit“ und ist gemäß der ungeschriebenen britischen Verfassung das Staatsoberhaupt. \n",
      "Auf George VI. folgte 1952 dessen Tochter Elisabeth II., die heute noch herrscht. Während ihrer Herrschaft stieg zeitweise die Unterstützung für die republikanische Bewegung, insbesondere wegen des schlechten Images der britischen Königsfamilie, das durch negative Ereignisse wie dem Tod von Prinzessin Diana hervorgerufen wurde.Meinungsumfragen in jüngerer Vergangenheit zeigen jedoch, dass die Treue zur Monarchie in weiten Bevölkerungskreisen ungebrochen anhält. Auf Elisabeth II. folgten gemäß Thronfolge vom 24. April 2018 an erster Stelle Prinz Charles, darauf Prinz William, dessen Sohn George, danach Charlotte und der an diesem Tag neugeborene Louis Arthur Charles. Prinz Harry rutschte an diesem Tag auf die sechste Stelle in der Thronfolge.\n",
      "Der Almsee ist ein Bergsee im oberösterreichischen Teil des Salzkammergutes im Gemeindegebiet von Grünau im Almtal, am Nordfuß des Toten Gebirges und liegt auf 589 m ü. A\n",
      "Die Alm ist der Abfluss des Almsees nördlich des Toten Gebirges und fließt durch das Almtal Richtung Norden.\n",
      "Der nährstoffarme See bietet mit seinen weitgehend naturnahen Ufern und stark gegliedertem Vegetationsgürtel, mit angrenzenden Feuchtgebieten, Lebensräume für viele Tier- und Pflanzenarten.\n",
      "Er stellt ein relativ intaktes Ökosystem dar und das Gebiet steht seit 1965 unter Naturschutz.\n",
      "Der im Besitz des Stiftes Kremsmünster befindliche Almsee ist wegen seiner schönen Lage ein beliebtes Ausflugsziel.\n",
      "Der See im Almtal, 11 km südlich des Ortszentrums von Grünau im Almtal ist über die Almseestraße L549, die am Westufer bis ans Südende verläuft, erreichbar.\n",
      "Landschaftlich hat Grünau sehr viel zu bieten. Zu den Hauptsehenswürdigkeiten zählen neben dem Almsee und dem umgebenden Landschaftsschutzgebiet mit seiner faszinierenden Tier- und Pflanzenwelt die Ödseen, der Cumberland Wildpark sowie die Kasbergalm.\n",
      "Die Klimadaten zeigen eine für die nördlichen Kalkalpen typische Temperatur- und Niederschlagsverteilung: kühle und niederschlagsreiche Sommer, mit einem Maximum von 16,6 °C bzw. 214 mm im Juli, und niederschlagsarme Winter, mit einem Temperaturminimum von −2,7 °C im Jänner.\n",
      "\n",
      "\n",
      "\n",
      "Abraham Lincoln  [ˈeɪbɹəhæm ˈliŋkən] (* 12. Februar 1809 bei Hodgenville, Hardin County, heute: LaRue County, Kentucky; † 15. April 1865 in Washington, D.C.) amtierte von 1861 bis 1865 als 16. Präsident der Vereinigten Staaten von Amerika.\n",
      "Lincolns Präsidentschaft gilt als eine der bedeutendsten in der Geschichte der Vereinigten Staaten: Die Wahl des Sklavereigegners veranlasste zunächst sieben, später weitere vier der sklavenhaltenden Südstaaten, aus der Union auszutreten und einen eigenen Staatenbund, die Konföderierten Staaten von Amerika, zu bilden.\n",
      "Im Jahr 1842 heiratete Abraham Lincoln Mary Todd, die einer reichen Familie von Pflanzern und Sklavenhaltern aus Kentucky entstammte. \n",
      "Er versprach, nicht als erster zu Gewaltmaßnahmen zu greifen, machte aber zugleich deutlich, dass sein Amtseid ihn verpflichte, einer Spaltung der Union auf jeden Fall entgegenzutreten\n",
      "Bei der Präsidentschaftswahl 1864 gewann Lincoln zwar eine Mehrheit im Staat, doch fiel diese deutlich geringer aus als 1860.\n",
      "Am 5. Mai 1865 wurde Abraham Lincoln auf dem Friedhof Oak Ridge Cemetery in seiner Heimatstadt Springfield beigesetzt.\n",
      "Heute wird der Mitbegründer der Republikanischen Partei von Angehörigen aller ethnischen Gruppen verehrt, von Konservativen und Liberalen ebenso wie von Linken. \n",
      "Mit über 334.000 Einwohnern ist sie die größte Stadt der Region Ostwestfalen-Lippe und deren wirtschaftliches Zentrum. \n",
      "Das Stadtgebiet gehört drei unterschiedlichen Naturräumen an. Der Norden und Nordosten einschließlich des Stadtzentrums sind in die Hügellandschaft der Ravensberger Mulde eingebettet. Unmittelbar südlich schließt sich der Gebirgszug des Teutoburger Waldes an, der Bielefeld von Westnordwest nach Ostsüdost durchzieht.\n",
      "In der Innenstadt fließt der Lutterbach. In der Literatur wird Bielefeld deshalb auch ab und an als am Lutterbach liegend beschrieben.\n",
      "Die Bevölkerungszahl Bielefelds überschritt 1930 in den damaligen Grenzen die Marke von 100.000 und machte die Stadt damit zur Großstadt. \n",
      "Die Kirche Heilig Geist an der Spandauer Allee im Bielefelder Ortsteil Dornberg gilt als ein Kleinod unter den modernen Kirchen im ostwestfälischen Raum. \n",
      "Der Informatiker Achim Held veröffentlichte im Jahr 1994 im Usenet einen satirischen Beitrag mit dem Titel Die Bielefeld-Verschwörung, in dem er die Existenz Bielefelds anzweifelte und deren Vortäuschung als Verschwörung bezeichnete. Im Internet hält sich dieser Scherz bis heute in Form der darauf formulierten Antwort von Joerg Pechau: „Bielefeld gibt es nicht“.\n",
      "Desoxyribonukleinsäure  (abgekürzt DNS), im Deutschen inzwischen meist als DNA (Abkürzung für englisch deoxyribonucleic acid) bezeichnet, ist eine Nukleinsäure, die sich als Polynukleotid aus einer Kette von vielen Nukleotiden zusammensetzt. \n",
      "Im Normalzustand ist DNA in Form einer Doppelhelix aufgebaut. Ihre Bausteine sind vier verschiedene Nukleotide, die jeweils aus einem Phosphatrest, dem Zucker Desoxyribose und einer von vier organischen Basen (Adenin, Thymin, Guanin und Cytosin, oft abgekürzt mit A, T, G und C) bestehen.\n",
      "Den strukturellen Aufbau der DNA zu entschlüsseln und im Modell nachzubilden gelang dem US-Amerikaner James Watson und dem Briten Francis Crick am 28. Februar 1953.\n",
      "DNA kommt normalerweise als schraubenförmige Doppelhelix in einer Konformation vor, die B-DNA genannt wird. \n",
      "Die fünf Kohlenstoffatome einer Desoxyribose sind von 1' (sprich Eins Strich) bis 5' nummeriert. Am 1'-Ende dieses Zuckers ist die Base gebunden. Am 5'-Ende hängt der Phosphatrest. Genau genommen handelt es sich bei der Desoxyribose um die 2-Desoxyribose;\n",
      "Königswasser, selten auch Königssäure genannt, ist ein Gemisch aus konzentrierter (37%iger) Salzsäure und konzentrierter (65%iger) Salpetersäure im Verhältnis 3 zu 1.\n",
      "Es war dem persischen Autor Ali Geber schon im 8. Jahrhundert bekannt.\n",
      "Der Name Königswasser (lat. aqua regis oder aqua regia ‚königliches Wasser‘) leitet sich von der Fähigkeit dieser Mischung ab, die „königlichen“ Edelmetalle Gold und Platin zu lösen.\n",
      "Aus Gold entsteht dabei Tetrachlorogold(III)-säure, aus Platin Platin(IV)-chlorid aus der entstehenden Hexachloroplatinsäure.\n",
      "Tetrachlorogoldsäure, HAuCl4 ist eine chemische Verbindung von Gold und Chlor und ein wichtiger Ausgangsstoff für andere Goldverbindungen.\n",
      "Die einfachste und wichtigste Gewinnungsart von Tetrachlorogoldsäure ist die Auflösung von elementarem Gold in Königswasser, einer Mischung aus Salz- und Salpetersäure\n",
      "Julia Fiona Roberts (* 28. Oktober 1967 in Atlanta, Georgia) ist eine US-amerikanische Schauspielerin.\n",
      "Sie hatte 1990 mit der Filmromanze Pretty Womanihren internationalen Durchbruch und erhielt für die Rolle den Golden Globe und eine Oscar-Nominierung\n",
      "Julia Roberts wurde 1991 für den Oscar in der Kategorie Beste Hauptdarstellerin nominiert.\n",
      "Mit Filmen wie Die Akte (1993), Die Hochzeit meines besten Freundes (1997), Notting Hill (1999) und Die Braut, die sich nicht traut (1999) etablierte sie sich als eine der erfolgreichsten Schauspielerinnen Hollywoods.\n",
      "Die Hauptrolle spielt Julia Roberts, die für ihre Darstellung den Oscar in der Kategorie „Beste Hauptdarstellerin“ erhielt.\n",
      "Ihre Eltern, Walter Grady Roberts (1933–1977) und Betty Lou Bredemus (1934–2015), leiteten eine Schauspielschule für Kinder in der Innenstadt von Atlanta, die auch von Julias beiden älteren Geschwistern Eric Roberts (* 1956) und Lisa Roberts Gillan (* 1965) besucht wurde.\n",
      "1997 landete Roberts mit der romantischen Komödie Die Hochzeit meines besten Freundes einen weltweiten Kinohit.\n",
      "Der Großglockner (häufig auch kurz Glockner genannt[1]) ist mit einer Höhe von 3798 m ü. A.[2] der höchste Berg Österreichs.\n",
      "Seit den ersten Erkundungen Ende des 18. Jahrhunderts und der Erstbesteigung durch vier Teilnehmer einer Großexpedition unter der Leitung von Fürstbischof Salm-Reifferscheidt-Krautheim im Jahr 1800 spielte der Großglockner eine wichtige Rolle in der Entwicklung des Alpinismus.\n",
      "Bis heute ist er von großer Bedeutung für den Fremdenverkehr in der Region und mit mehr als 5000 Gipfelbesteigungen pro Jahr ein beliebtes Ziel der Bergsteiger.\n",
      "Der Großglockner ist ein pyramidenförmiger Felsgipfel, der aufgrund seines hochalpinen, stark vergletscherten Erscheinungsbildes häufig mit den Bergen der Westalpen verglichen wird.\n",
      "Die Flora des Großglocknergebiets besteht aus alpinen und subalpinen Pflanzenarten\n",
      "1919, als Südtirol nach dem Vertrag von Saint-Germain Italien zugesprochen wurde, löste der Glockner den Ortler als höchster Berg Österreichs ab.\n",
      "Edle Berggestalt, schönster Gipfel der Ostalpen und höchste Erhebung von Österreich, wuchtiger, westalpiner Charakter; besteht aus Grünstein, das die schroffe Gipfelform erklärt.\n",
      "\n"
     ]
    }
   ],
   "source": [
    "print(test_document)"
   ]
  },
  {
   "cell_type": "code",
   "execution_count": 13,
   "metadata": {
    "scrolled": true
   },
   "outputs": [],
   "source": [
    "# transform the document to vector space\n",
    "test_vec = dictionary.doc2bow(preprocess_text(test_document))\n",
    "# convert to lda space\n",
    "test_vec_lda = lda[test_vec]"
   ]
  },
  {
   "cell_type": "code",
   "execution_count": 14,
   "metadata": {
    "scrolled": true
   },
   "outputs": [],
   "source": [
    "# get the similarities\n",
    "sims = corpus_index[test_vec_lda]"
   ]
  },
  {
   "cell_type": "code",
   "execution_count": 15,
   "metadata": {},
   "outputs": [
    {
     "name": "stdout",
     "output_type": "stream",
     "text": [
      "[(0, 0.0), (1, 0.0), (2, 0.57573116), (3, 0.0), (4, 0.0), (5, 0.032051582), (6, 0.0), (7, 0.0), (8, 0.048284315), (9, 0.06864172), (10, 0.068411574), (11, 0.019717814), (12, 0.070938125), (13, 0.072628155), (14, 0.0), (15, 0.028425444), (16, 0.21034276), (17, 0.017979994), (18, 0.0), (19, 0.09790744), (20, 0.06591607), (21, 0.056166682), (22, 0.01733437), (23, 0.051073823), (24, 0.0035758216), (25, 0.072429344), (26, 0.0), (27, 0.072628155), (28, 0.019298662), (29, 0.072628155), (30, 0.04496612), (31, 0.037945636), (32, 0.036152083), (33, 0.0), (34, 0.45968515), (35, 0.0), (36, 0.10352524), (37, 0.014574563), (38, 0.26127774), (39, 0.0), (40, 0.0), (41, 0.56370336), (42, 0.0011630558), (43, 0.08237219), (44, 0.0), (45, 0.6886529), (46, 0.0), (47, 0.5062068), (48, 0.0), (49, 0.0), (50, 0.1388013), (51, 0.56422883), (52, 0.0), (53, 0.5511428), (54, 0.0), (55, 0.0), (56, 0.0013991656), (57, 0.041555025), (58, 0.09268699), (59, 0.3270393), (60, 0.0010350089), (61, 0.3014194), (62, 0.6526557), (63, 0.0), (64, 0.0), (65, 0.0), (66, 0.0), (67, 0.0), (68, 0.0), (69, 0.11731339), (70, 0.0), (71, 0.3075724), (72, 0.0), (73, 0.011240092), (74, 0.26689762), (75, 0.0), (76, 0.0), (77, 0.51825005), (78, 0.0), (79, 0.23061635), (80, 0.02032632), (81, 0.0), (82, 0.41238785), (83, 0.18095547), (84, 0.6429161), (85, 0.49288684), (86, 0.0), (87, 0.0), (88, 0.25216696), (89, 0.36019754), (90, 0.5062068), (91, 0.18541044), (92, 0.0313838), (93, 0.59177893), (94, 0.007882471), (95, 0.0), (96, 0.01407155), (97, 0.17384344), (98, 0.0), (99, 0.07705423), (100, 0.21591656), (101, 0.29642496), (102, 0.072628155), (103, 0.12181255), (104, 0.0), (105, 0.0076453853), (106, 0.0), (107, 0.21187523), (108, 0.018800294), (109, 0.0), (110, 0.0), (111, 0.5413181), (112, 0.57573116), (113, 0.0), (114, 0.53438663), (115, 0.0), (116, 0.5062068), (117, 0.4931157), (118, 0.0), (119, 0.0), (120, 0.0), (121, 0.044782303), (122, 0.52900445), (123, 0.39526027), (124, 0.048931632), (125, 0.1379802), (126, 0.0), (127, 0.04129952), (128, 0.110779665), (129, 0.27072576), (130, 0.0404844), (131, 0.0), (132, 0.12616806), (133, 0.0), (134, 0.0), (135, 0.038559116), (136, 0.09132053), (137, 0.34199768), (138, 0.027387915), (139, 0.0), (140, 0.0), (141, 0.0), (142, 0.23909877), (143, 0.14048053), (144, 0.0), (145, 0.0), (146, 0.072820805), (147, 0.5618785), (148, 0.0), (149, 0.0), (150, 0.1890573), (151, 0.20460083), (152, 0.0), (153, 0.0), (154, 0.002338152), (155, 0.072628155), (156, 0.23909877), (157, 0.10200571), (158, 0.0), (159, 0.0), (160, 0.40311483), (161, 0.23930332), (162, 0.0), (163, 0.0), (164, 0.0), (165, 0.0), (166, 0.0), (167, 0.0), (168, 0.0), (169, 0.0), (170, 0.020329887), (171, 0.0), (172, 0.49233317), (173, 0.08152314), (174, 0.16778767), (175, 0.4519188), (176, 0.0), (177, 0.19543755), (178, 0.24925354), (179, 0.23909877), (180, 0.3773211), (181, 0.0), (182, 0.0), (183, 0.0), (184, 0.116091006), (185, 0.08366115), (186, 0.08366115), (187, 0.076870054), (188, 0.0), (189, 0.23959233), (190, 0.0), (191, 0.0), (192, 0.0), (193, 0.0), (194, 0.0), (195, 0.5448402), (196, 0.0), (197, 0.24910319), (198, 0.23041716), (199, 0.38914406)]\n"
     ]
    }
   ],
   "source": [
    "sims = corpus_index[test_vec_lda]\n",
    "print(list(enumerate(sims)))"
   ]
  },
  {
   "cell_type": "markdown",
   "metadata": {},
   "source": [
    "## Results"
   ]
  },
  {
   "cell_type": "code",
   "execution_count": 17,
   "metadata": {
    "scrolled": true
   },
   "outputs": [
    {
     "name": "stdout",
     "output_type": "stream",
     "text": [
      "Similarity Score:  0.57573116 \n",
      " Document ID: 2 \n",
      " Title: Ang Lee \n",
      " ------------------------------------\n",
      "Similarity Score:  0.56370336 \n",
      " Document ID: 41 \n",
      " Title: Alfred Hitchcock \n",
      " ------------------------------------\n",
      "Similarity Score:  0.6886529 \n",
      " Document ID: 45 \n",
      " Title: Anime \n",
      " ------------------------------------\n",
      "Similarity Score:  0.5062068 \n",
      " Document ID: 47 \n",
      " Title: Al Pacino \n",
      " ------------------------------------\n",
      "Similarity Score:  0.56422883 \n",
      " Document ID: 51 \n",
      " Title: Antimon \n",
      " ------------------------------------\n",
      "Similarity Score:  0.5511428 \n",
      " Document ID: 53 \n",
      " Title: Arsen \n",
      " ------------------------------------\n",
      "Similarity Score:  0.6526557 \n",
      " Document ID: 62 \n",
      " Title: Antike \n",
      " ------------------------------------\n",
      "Similarity Score:  0.51825005 \n",
      " Document ID: 77 \n",
      " Title: Außenbandruptur des oberen Sprunggelenkes \n",
      " ------------------------------------\n",
      "Similarity Score:  0.6429161 \n",
      " Document ID: 84 \n",
      " Title: Aristoteles \n",
      " ------------------------------------\n",
      "Similarity Score:  0.5062068 \n",
      " Document ID: 90 \n",
      " Title: Alicia Silverstone \n",
      " ------------------------------------\n",
      "Similarity Score:  0.59177893 \n",
      " Document ID: 93 \n",
      " Title: Atheismus \n",
      " ------------------------------------\n",
      "Similarity Score:  0.5413181 \n",
      " Document ID: 111 \n",
      " Title: Augustus \n",
      " ------------------------------------\n",
      "Similarity Score:  0.57573116 \n",
      " Document ID: 112 \n",
      " Title: Argumentum lege non distinguente \n",
      " ------------------------------------\n",
      "Similarity Score:  0.53438663 \n",
      " Document ID: 114 \n",
      " Title: Arthur Schopenhauer \n",
      " ------------------------------------\n",
      "Similarity Score:  0.5062068 \n",
      " Document ID: 116 \n",
      " Title: Aemilianus (Kaiser) \n",
      " ------------------------------------\n",
      "Similarity Score:  0.52900445 \n",
      " Document ID: 122 \n",
      " Title: Adolf Hitler \n",
      " ------------------------------------\n",
      "Similarity Score:  0.5618785 \n",
      " Document ID: 147 \n",
      " Title: Absoluter Nullpunkt \n",
      " ------------------------------------\n",
      "Similarity Score:  0.5448402 \n",
      " Document ID: 195 \n",
      " Title: Argentinien \n",
      " ------------------------------------\n",
      "18 cases of possible plagiarism detected.\n"
     ]
    }
   ],
   "source": [
    "hits = 0\n",
    "for ids in list(enumerate(sims)):\n",
    "    if ids[1] >= 0.5:\n",
    "        hits += 1\n",
    "        title = title_ids.get(ids[0])\n",
    "        print(\"Similarity Score: \",ids[1],\"\\n\",\"Document ID:\",ids[0],\"\\n\",\"Title:\", title,\"\\n\", \"------------------------------------\")\n",
    "print(hits, \"cases of possible plagiarism detected.\")"
   ]
  },
  {
   "cell_type": "code",
   "execution_count": null,
   "metadata": {},
   "outputs": [],
   "source": []
  }
 ],
 "metadata": {
  "kernelspec": {
   "display_name": "Python 3",
   "language": "python",
   "name": "python3"
  },
  "language_info": {
   "codemirror_mode": {
    "name": "ipython",
    "version": 3
   },
   "file_extension": ".py",
   "mimetype": "text/x-python",
   "name": "python",
   "nbconvert_exporter": "python",
   "pygments_lexer": "ipython3",
   "version": "3.8.6"
  }
 },
 "nbformat": 4,
 "nbformat_minor": 4
}
