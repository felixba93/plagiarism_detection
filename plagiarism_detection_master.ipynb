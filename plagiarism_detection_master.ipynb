{
 "cells": [
  {
   "cell_type": "markdown",
   "metadata": {},
   "source": [
    "# Wikipedia Corpus\n",
    "\n",
    "Corpus from: https://dumps.wikimedia.org/dewiki/20200820/\n",
    "\n",
    "Sentences for comparison from: https://github.com/t-systems-on-site-services-gmbh/german-wikipedia-text-corpus"
   ]
  },
  {
   "cell_type": "code",
   "execution_count": 1,
   "metadata": {},
   "outputs": [],
   "source": [
    "#imports\n",
    "from xml.etree.ElementTree import *\n",
    "import xml.etree.ElementTree as ET\n",
    "from collections import Counter\n",
    "import os\n",
    "import pprint\n",
    "import gensim\n",
    "from gensim import corpora\n",
    "from gensim import models\n",
    "from gensim import similarities\n",
    "from gensim.corpora import Dictionary\n",
    "from gensim.models import LdaModel\n",
    "from gensim.models import LdaMulticore\n",
    "import nltk\n",
    "from nltk.corpus import stopwords\n",
    "from smart_open import open \n",
    "import spacy\n",
    "import de_core_news_md\n",
    "import pickle\n",
    "import numpy as np\n",
    "\n",
    "from ipywidgets import FileUpload\n",
    "from IPython.display import display\n",
    "from IPython.core.display import display, HTML\n",
    "\n",
    "\n",
    "from functions import *"
   ]
  },
  {
   "cell_type": "markdown",
   "metadata": {},
   "source": [
    "### Global Variables"
   ]
  },
  {
   "cell_type": "code",
   "execution_count": 24,
   "metadata": {},
   "outputs": [],
   "source": [
    "# the XML-file\n",
    "xml_file = \"data/wiki_corpus/dewiki-20200820-pages-articles-multistream.xml\"\n",
    "\n",
    "# number of documents to parse \n",
    "num_documents = 200\n",
    "\n",
    "# similarity threshold, when does a document count as plagiarism\n",
    "sim_threshold = 0.7"
   ]
  },
  {
   "cell_type": "markdown",
   "metadata": {},
   "source": [
    "## Preprocessing"
   ]
  },
  {
   "cell_type": "markdown",
   "metadata": {},
   "source": [
    "To be able to return the title of a given article later on, we need to store those in a dictionary:"
   ]
  },
  {
   "cell_type": "code",
   "execution_count": 3,
   "metadata": {},
   "outputs": [],
   "source": [
    "title_ids = get_titles(xml_file, num_documents)"
   ]
  },
  {
   "cell_type": "markdown",
   "metadata": {},
   "source": [
    "## Build the corpus"
   ]
  },
  {
   "cell_type": "markdown",
   "metadata": {},
   "source": [
    "Create a corpus from the text contents of the XML file."
   ]
  },
  {
   "cell_type": "markdown",
   "metadata": {},
   "source": [
    "1. Corpus is defined as a class object, so it can be called when needed.\n",
    "2. Loops through the XML-file, searching for closing \"text\" tags.\n",
    "3. Returns the text contents from these nodes in preprocessed form.\n",
    "4. Then clears the current node from memory"
   ]
  },
  {
   "cell_type": "code",
   "execution_count": 4,
   "metadata": {},
   "outputs": [],
   "source": [
    "# Define the corpus as an object\n",
    "class MyCorpus:\n",
    "    def __iter__(self):\n",
    "        # define the XML tree\n",
    "        for event, elem in ET.iterparse(xml_file, events = (\"start\", \"end\")):            \n",
    "            # Each document is represented as an object between <text> tags in the xml file\n",
    "            if event == 'end' and \"text\" in elem.tag:\n",
    "                # Transfom the corpus to vectors\n",
    "                yield dictionary.doc2bow(preprocess_text(elem.text))\n",
    "                # clear the node\n",
    "                elem.clear()                "
   ]
  },
  {
   "cell_type": "markdown",
   "metadata": {},
   "source": [
    "Initialize the corpus, without loading it into memory, this is not needed when working with the smaller corpus."
   ]
  },
  {
   "cell_type": "code",
   "execution_count": 5,
   "metadata": {},
   "outputs": [],
   "source": [
    "corpus = MyCorpus()"
   ]
  },
  {
   "cell_type": "markdown",
   "metadata": {},
   "source": [
    "The whole corpus is too big for this experiment and takes too long to parse through. For our proof-of-concept approach we therefore propose a function which only loops through the first i documents (text nodes) in the XML tree:"
   ]
  },
  {
   "cell_type": "code",
   "execution_count": 6,
   "metadata": {},
   "outputs": [],
   "source": [
    "# Define a smaller corpus, containing only the first i documents:\n",
    "class MyCorpus_small:\n",
    "    def __iter__(self):\n",
    "        index = 0\n",
    "        # define the XML tree\n",
    "        for event, elem in ET.iterparse(xml_file, events = (\"start\", \"end\")):\n",
    "            if index < num_documents:\n",
    "                # Each document is represented as an object between <text> tags in the xml file\n",
    "                if event == 'end' and \"text\" in elem.tag:\n",
    "                    # Transfom the corpus to vectors\n",
    "                    yield dictionary.doc2bow(preprocess_text(elem.text))\n",
    "                    index+=1\n",
    "                    # clear the node\n",
    "                    elem.clear()\n",
    "            else:\n",
    "                break    "
   ]
  },
  {
   "cell_type": "markdown",
   "metadata": {},
   "source": [
    "Initialize the smaller corpus, again without loading it into memory:"
   ]
  },
  {
   "cell_type": "code",
   "execution_count": 7,
   "metadata": {},
   "outputs": [],
   "source": [
    "corpus_small = MyCorpus_small()"
   ]
  },
  {
   "cell_type": "markdown",
   "metadata": {},
   "source": [
    "---"
   ]
  },
  {
   "cell_type": "markdown",
   "metadata": {},
   "source": [
    "## Build the Dictionary\n",
    "\n",
    "To further work with the corpus in vector form, we need to build a dictionary. \n",
    "\n",
    "This function needs to be called only once, since we are able to save the dictionary created by it and load it in future use."
   ]
  },
  {
   "cell_type": "markdown",
   "metadata": {},
   "source": [
    "__DO NOT RUN THE FOLLOWING CODE IF THE DICTIONARY CAN BE LOADED FROM A FILE__"
   ]
  },
  {
   "cell_type": "code",
   "execution_count": 34,
   "metadata": {},
   "outputs": [
    {
     "name": "stdout",
     "output_type": "stream",
     "text": [
      "Wall time: 2min 13s\n"
     ]
    }
   ],
   "source": [
    "%%time\n",
    "# build the dictionary:\n",
    "dictionary = build_dictionary(xml_file, num_documents)"
   ]
  },
  {
   "cell_type": "code",
   "execution_count": 35,
   "metadata": {},
   "outputs": [
    {
     "name": "stdout",
     "output_type": "stream",
     "text": [
      "Wall time: 35 ms\n"
     ]
    }
   ],
   "source": [
    "%%time\n",
    "# remove words that appear only once\n",
    "once_ids = [tokenid for tokenid, docfreq in dictionary.dfs.items() if docfreq == 1]\n",
    "dictionary.filter_tokens(once_ids)\n",
    "# remove gaps in id sequence after words that were removed\n",
    "dictionary.compactify()"
   ]
  },
  {
   "cell_type": "code",
   "execution_count": 36,
   "metadata": {},
   "outputs": [],
   "source": [
    "#save the dictionary\n",
    "dictionary.save('data/wiki_200_new.dict')"
   ]
  },
  {
   "cell_type": "markdown",
   "metadata": {},
   "source": [
    "__CONTINUE HERE TO LOAD THE DICTIONARY__"
   ]
  },
  {
   "cell_type": "code",
   "execution_count": 9,
   "metadata": {},
   "outputs": [],
   "source": [
    "#load the dictionary\n",
    "dictionary = Dictionary.load('data/wiki_200_new.dict')"
   ]
  },
  {
   "cell_type": "code",
   "execution_count": 10,
   "metadata": {},
   "outputs": [
    {
     "name": "stdout",
     "output_type": "stream",
     "text": [
      "Dictionary(20308 unique tokens: ['abc', 'abkehr', 'ablehnen', 'abrufen', 'abschluss']...)\n"
     ]
    }
   ],
   "source": [
    "# check if the dictionary has been loaded \n",
    "print(dictionary)"
   ]
  },
  {
   "cell_type": "markdown",
   "metadata": {},
   "source": [
    "---"
   ]
  },
  {
   "cell_type": "markdown",
   "metadata": {},
   "source": [
    "## Similarity with LDA (Latent Dirichlet Allocation)"
   ]
  },
  {
   "cell_type": "markdown",
   "metadata": {},
   "source": [
    "### Train the LDA model"
   ]
  },
  {
   "cell_type": "markdown",
   "metadata": {},
   "source": [
    "Parameters:\n",
    "* corpus: the corpus\n",
    "* num_topics: topics to be extracted from the training corpus\n",
    "* id2word: id to word mapping, the dictionary\n",
    "* workers: number of cpu cores used\n",
    "\n",
    "The trained model can be stored and loaded, as same as the dictionary before."
   ]
  },
  {
   "cell_type": "code",
   "execution_count": 11,
   "metadata": {},
   "outputs": [
    {
     "name": "stdout",
     "output_type": "stream",
     "text": [
      "Wall time: 4min 24s\n"
     ]
    }
   ],
   "source": [
    "%%time\n",
    "lda = LdaMulticore(corpus_small, num_topics=200, id2word=dictionary)"
   ]
  },
  {
   "cell_type": "markdown",
   "metadata": {},
   "source": [
    "First experiments have shown that a topic number of 10 (default) is too low. 100 resulted in better disctinction between the different articles.\n",
    "__Further fine tuning needed here__"
   ]
  },
  {
   "cell_type": "code",
   "execution_count": 12,
   "metadata": {},
   "outputs": [],
   "source": [
    "#save the trained model\n",
    "lda.save(\"data/lda_model_200_t200.txt\")"
   ]
  },
  {
   "cell_type": "code",
   "execution_count": 13,
   "metadata": {},
   "outputs": [],
   "source": [
    "#load the trained model\n",
    "lda = LdaModel.load(\"data/lda_model_200_t200.txt\")"
   ]
  },
  {
   "cell_type": "markdown",
   "metadata": {},
   "source": [
    "Index the corpus with the trained model:"
   ]
  },
  {
   "cell_type": "code",
   "execution_count": 14,
   "metadata": {
    "scrolled": true
   },
   "outputs": [
    {
     "name": "stdout",
     "output_type": "stream",
     "text": [
      "Wall time: 2min 11s\n"
     ]
    }
   ],
   "source": [
    "%%time\n",
    "corpus_index = similarities.MatrixSimilarity(list(lda[corpus_small]), num_features=len(dictionary))"
   ]
  },
  {
   "cell_type": "code",
   "execution_count": 16,
   "metadata": {},
   "outputs": [],
   "source": [
    "#save the index\n",
    "pickle_out = open(\"data/lda_index_200_t200.pickle\", \"wb\")\n",
    "pickle.dump(corpus_index, pickle_out)\n",
    "pickle_out.close()"
   ]
  },
  {
   "cell_type": "code",
   "execution_count": 17,
   "metadata": {},
   "outputs": [],
   "source": [
    "# load the index from disk\n",
    "corpus_index = pickle.load(open(\"data/lda_index_200_t200.pickle\", \"rb\"))"
   ]
  },
  {
   "cell_type": "markdown",
   "metadata": {},
   "source": [
    "## Similarity Check\n",
    "\n",
    "Now that we have a LDA model and an index we can check the similarity of an input document against all documents in our corpus."
   ]
  },
  {
   "cell_type": "code",
   "execution_count": 18,
   "metadata": {},
   "outputs": [],
   "source": [
    "# define document to use in similarity check\n",
    "test_document = open('beispieltexte/wikibeispiele.txt', encoding='utf-8')\n",
    "test_document = test_document.read()"
   ]
  },
  {
   "cell_type": "code",
   "execution_count": 19,
   "metadata": {
    "scrolled": true
   },
   "outputs": [
    {
     "name": "stdout",
     "output_type": "stream",
     "text": [
      "Pacino wurde durch den späteren Filmproduzenten Martin Bregman bei einem Off-Broadway-Auftritt entdeckt.[6] 1969 wirkte er in seiner ersten Hollywood-Produktion Ich, Natalie mit. 1971 erhielt er neben Kitty Winn eine Rolle in dem Film Panik im Needle Park, die ihm den Weg für die Rolle des Michael Corleone in Francis Ford Coppolas Der Pate (1972) ebnete und ihm 1973 seine erste Oscar-Nominierung einbrachte.\n",
      "\n",
      "Nach Hundstage wurde es stiller um Pacino. Erst in den 1980er Jahren brachte er sich durch Filme wie Brian De Palmas Scarface (1983) und Sea of Love – Melodie des Todes (1989) wieder ins Gespräch. Nach einer erneuten Zusammenarbeit mit Coppola in Der Pate III (1990) folgte der Thriller Heat (1995) mit Schauspielkollege Robert De Niro. Die männliche Hauptrolle in dem Film Pretty Woman lehnte er ab.\n",
      "\n",
      "Seine Darstellung des AIDS-kranken Schwulenhassers Roy Cohn in der Miniserie Engel in Amerika (2003) brachte ihm zahlreiche Preise ein und wurde von der Kritik hoch gelobt.\n",
      "\n",
      "Pacino ist dafür bekannt, seine Rollen bis zum Extrem auszufüllen. Während sein Spiel in den 1970er Jahren – insbesondere in Der Pate – dabei zumeist minimalistisch und zurückhaltend war, änderte es sich mit seinem Comeback in den 1980er Jahren radikal: Pacinos exaltierte Darstellungen in Filmen wie Scarface, Im Auftrag des Teufels, An jedem verdammten Sonntag oder auch Der Duft der Frauen wurden von Kritikern oftmals als Overacting bezeichnet. Für einen Großteil des Publikums zeichnet ihn allerdings genau diese Art und Weise als einen der größten Charakterdarsteller der Gegenwart aus. Viele seiner Filme, darunter auch Glengarry Glen Ross, der zunächst floppte, zählen heute zu den Besten ihres Genres.\n",
      "Der Kleinspecht (Dryobates minor, Syn.: Dendrocopos minor) ist eine Vogelart aus der Gattung der Buntspechte (Dendrocopos). Diese gehören zur Unterfamilie der Echten Spechte in der Familie der Spechte (Picidae).\n",
      "Die Art zählt mit einer Körperlänge von rund 15 cm zu den kleinsten Echten Spechten. Sie ist in 11 Unterarten über die gesamte westliche und nördliche Paläarktis bis an die asiatische Pazifikküste verbreitet.\n",
      "Der Kleinspecht ist ein typischer Vertreter der Buntspechte mit schwarz-weiß kontrastierendem Gefieder, trotzdem ist er in der West- und Zentralpaläarktis auf Grund seiner Kleinheit unverwechselbar\n",
      "Beide Geschlechter des Kleinspechtes sind fast während des gesamten Jahres sehr ruffreudig\n",
      "Der Höhepunkt der gesanglichen Aktivität liegt jedoch im Spätwinter und im zeitigen Frühjahr\n",
      "Die dichteste Verbreitung liegt in der planaren und collinen Stufe. Bedeutend seltener brüten Kleinspechte in Mitteleuropa in höhergelegenen Gebieten.\n",
      "Er bevorzugt Waldgebiete und Gehölze mit einem guten Bestand an alten, grobborkigen Laubbäumen. \n",
      "Die Nahrung des Kleinspechtes besteht fast während des gesamten Jahres aus kleinen baumbewohnenden Insekten\n",
      "Wie alle Spechte ist auch der Kleinspecht tagaktiv; seine Aktivität beginnt kurz vor Sonnenaufgang und endet kurz nach Sonnenuntergang\n",
      "Alfredo James „Al“ Pacino (* 25. April 1940 in New York) ist ein US-amerikanischer Schauspieler, Filmregisseur und Filmproduzent. Er gilt für viele Kritiker und Zuschauer als einer der herausragenden Charakterdarsteller des zeitgenössischen amerikanischen Films und Theaters. So ist er seit den 1970er Jahren in zahlreichen Filmklassikern zu sehen.\n",
      "m Laufe seiner Karriere wurde er unter anderem mit dem Oscar, dem Golden Globe Award, dem Tony Award und der National Medal of Arts ausgezeichnet. Seine bekanntesten Rollen sind die des Michael Corleone in der von Francis Ford Coppola inszenierten Der Pate-Trilogie und als Gangster Tony Montana in Scarface.\n",
      "Pacino interessierte sich schon als Kind für die Schauspielerei. Er verfeinerte sein Talent an zwei renommierten New Yorker Schauspielschulen, in Herbert Berghofs HB Studio und später bei Lee Strasberg im The Actors Studio. Dort spielte er in mehreren erfolgreichen Theaterstücken wie in seinem Debütstück The Connection und in The Indian Wants the Bronx, für das er mit einem Obie-Award ausgezeichnet wurde.\n",
      "Al Pacino war insgesamt neun Mal für einen Oscar nominiert. Seine erste Nominierung erhielt er 1973 für seine Rolle des Michael Corleone in Der Pate von Francis Ford Coppola. \n",
      "Angelina Jolie (* 4. Juni 1975 als Angelina Jolie Voight in Los Angeles, Kalifornien) ist eine US-amerikanisch-kambodschanische Schauspielerin, Filmregisseurin, Filmproduzentin und Drehbuchautorin. Während ihrer Ehe mit Brad Pitt trug sie den Namen Angelina Jolie Pitt.\n",
      "Sie wurde mit der Darstellung der Videospielheldin Lara Croft in Lara Croft: Tomb Raider (2001) international bekannt. \n",
      "Die erste leibliche Tochter des Paares wurde am 27. Mai 2006 in Namibia geboren. Für die Erlaubnis zur Veröffentlichung der ersten Fotos von Shiloh Nouvel Jolie-Pitt zahlte die Zeitschrift People dem Paar 4,1 Millionen US-Dollar – den bis dahin höchsten Preis für sogenannte „Celebrity-Fotos“.[75] Am 15. März 2007 adoptierte Jolie – wegen des vietnamesischen Adoptionsrechts zunächst allein – einen Jungen (* 29. November 2003) aus einem Waisenhaus in Ho-Chi-Minh-Stadt. Ein Jahr später wurde auch Pitts Adoption von Pax Thien rechtskräftig. Beim Filmfestival von Cannes im Mai 2008 bestätigte Jolie ihre Schwangerschaft mit Zwillingen. Knox Léon und Vivienne Marcheline Jolie-Pitt wurden am 12. Juli 2008 in Nizza geboren. Die Rechte an den ersten öffentlichen Fotos der Zwillinge gingen für 14 Millionen US-Dollar erneut an die Zeitschrift People.\n",
      "2000: Auszeichnung als Beste Nebendarstellerin für Durchgeknallt\n",
      "\"2008 zählte Jolie laut Forbes Magazine zu den am besten verdienenden Schauspielerinnen in Hollywood. Zwischen Juni 2007 und Juni 2008 erhielt sie Gagen in Höhe von 14 Millionen US-Dollar.[2011 hatte sie in einem neuerlichen Forbes-Ranking die Spitzenposition durch ihr Mitwirken in Salt und The Tourist (30 Millionen US-Dollar) gemeinsam mit Sarah Jessica Parker inne.\n",
      "Das Ausmaß der Berichterstattung über Jolie wird auch daran deutlich, dass sie zwischen Mai 2011 und Mai 2012 auf den Titelblättern von mindestens 78 Zeitschriften zu sehen war.\"\n",
      "Das Schloss Neuschwanstein steht oberhalb von Hohenschwangau bei Füssen im südöstlichen bayerischen Allgäu.\n",
      "Der Bau wurde ab 1869 für den bayerischen König Ludwig II. als idealisierte Vorstellung einer Ritterburg aus der Zeit des Mittelalters errichtet. Die Entwürfe stammen von Christian Jank, die Ausführung übernahmen Eduard Riedel und Georg von Dollmann. Der König lebte nur wenige Monate im Schloss, er starb noch vor der Fertigstellung der Anlage. \n",
      "Neuschwanstein gilt als Sinnbild für die Zeit der Romantik und ist weltweit bekannt. In amerikanischer Werbung ist es das meistgenutzte Schlossmotiv.So war zum Beispiel der Bau der Kemenate – die erst nach Ludwigs Tod vollendet wurde – eine direkte Reminiszenz an den zweiten Akt von Lohengrin, wo ein solches Gebäude einen der Schauplätze darstellte.\n",
      "Beim Tode des Königs in der Nähe von Schloss Berg am 13. Juni 1886 war Neuschwanstein noch nicht fertiggestellt. Ludwig II. wollte das Schloss niemals der Öffentlichkeit zugänglich machen[22], aber schon sechs Wochen nach seinem Tod wurde es für Besucher geöffnet. Mit den Eintrittsgeldern in Höhe von zwei Mark[29] pro Person wurde ein Teil der Kredite bezahlt. Die Schlösser fielen als Erbe an Ludwigs Bruder Otto, der schon 1872 für geisteskrank und damit nicht regierungsfähig erklärt worden war. \n",
      "Der mit Neuschwanstein verbundene Massentourismus ist für die Region jedoch nicht nur ein lukratives Geschäft, sondern bringt auch Probleme mit sich. Vor allem in den Sommermonaten ist die Verkehrssituation rund um die Königsschlösser Hohenschwangau und Neuschwanstein extrem angespannt. Der ausufernde Parksuchverkehr in Schwangau wirkt belastend auf die Bewohner, und der sich stauende Verkehr in der Augsburger Straße in Füssen ist zu einem Drittel auf den An- und Abreiseverkehr der Schlosstouristen zurückzuführen.[70] Seit über 20 Jahren stehen die Stadt Füssen und die Gemeinde Schwangau in Verhandlung zur Beseitigung ihrer Verkehrsprobleme, doch die verschiedenen Interessenlagen und gegensätzliche Positionen der Beteiligten führten bislang zu keiner Lösung.\n",
      "Der British Airways i360 ist ein 173 Meter hoher Aussichtsturm im südenglischen Brighton. Eröffnet wurde der von 2014 bis 2016 erbaute Turm am 4. August 2016. Die gleichzeitig als Aufzug genutzte verglaste, nicht drehbare Aussichtskanzel fährt bis zu einer Höhe von 138 Metern. Der i360 ist der höchste Aussichtsturm im Vereinigten Königreich und hat nach dem Hochhaus The Shard in London die zweithöchste öffentlich begehbare Aussichtsplattform des Landes.\n",
      "Gleichzeitig gehört das Bauwerk mit einem Höhen-Breiten-Verhältnis von mehr als 40 : 1 zu den schlanksten Türmen der Welt und zu den höchsten Aussichtstürmen mit beweglicher Aussichtskanzel. Der außergewöhnlichen Gestaltung und innovativen Technik wurde durch zahlreiche Preise Rechnung getragen.\n",
      "Bereits 2003 schlugen die Architekten David Marks (1953–2017) und Julia Barfield für Brighton eine Touristenattraktion vor – beide hatten Ende der 1990er Jahre das London Eye in London geplant. Da das Riesenrad für andere kleinere Städte zu teuer ausgefallen wäre, führte zur Überlegung, stattdessen einen speziellen Aussichtsturm als Wahrzeichen zu bauen.\n",
      "Der British Airways i360 wurde am 4. August 2016 im Beisein von Prince Philip eröffnet.[18] Mit seinen 173 Metern ist es mit Abstand das höchstes Bauwerk in der Grafschaft Sussex und neben dem 24-geschossigen und 102 Meter hohen Wohnhochhaus Sussex Heights[19] des schweizerisch-britischen Architekten Richard Seifert aus den 1960er Jahren das zweite über 100 Meter hohe Bauwerk in Brighton.[20] Die Kosten des Bauwerks wurden mit rund 46 Mio. Pfund beziffert.\n",
      "Die britische Monarchie ist die parlamentarische Monarchie des Vereinigten Königreichs Großbritannien und Nordirland. Gegenwärtige Monarchin ist seit dem 6. Februar 1952 Königin Elisabeth II.\n",
      " Die Königin besitzt zwar theoretisch die Befugnisse eines konstitutionellen Monarchen, übt ihre Hoheitsrechte aber aufgrund eines jahrhundertealten Gewohnheitsrechts nicht mehr selbstständig aus, sondern ausschließlich gemäß den Vorgaben von Parlament und Regierung. \n",
      "Der Monarch besitzt einen hohen symbolischen Stellenwert als „Zeichen der nationalen Einheit“ und ist gemäß der ungeschriebenen britischen Verfassung das Staatsoberhaupt. \n",
      "Auf George VI. folgte 1952 dessen Tochter Elisabeth II., die heute noch herrscht. Während ihrer Herrschaft stieg zeitweise die Unterstützung für die republikanische Bewegung, insbesondere wegen des schlechten Images der britischen Königsfamilie, das durch negative Ereignisse wie dem Tod von Prinzessin Diana hervorgerufen wurde.Meinungsumfragen in jüngerer Vergangenheit zeigen jedoch, dass die Treue zur Monarchie in weiten Bevölkerungskreisen ungebrochen anhält. Auf Elisabeth II. folgten gemäß Thronfolge vom 24. April 2018 an erster Stelle Prinz Charles, darauf Prinz William, dessen Sohn George, danach Charlotte und der an diesem Tag neugeborene Louis Arthur Charles. Prinz Harry rutschte an diesem Tag auf die sechste Stelle in der Thronfolge.\n",
      "Der Almsee ist ein Bergsee im oberösterreichischen Teil des Salzkammergutes im Gemeindegebiet von Grünau im Almtal, am Nordfuß des Toten Gebirges und liegt auf 589 m ü. A\n",
      "Die Alm ist der Abfluss des Almsees nördlich des Toten Gebirges und fließt durch das Almtal Richtung Norden.\n",
      "Der nährstoffarme See bietet mit seinen weitgehend naturnahen Ufern und stark gegliedertem Vegetationsgürtel, mit angrenzenden Feuchtgebieten, Lebensräume für viele Tier- und Pflanzenarten.\n",
      "Er stellt ein relativ intaktes Ökosystem dar und das Gebiet steht seit 1965 unter Naturschutz.\n",
      "Der im Besitz des Stiftes Kremsmünster befindliche Almsee ist wegen seiner schönen Lage ein beliebtes Ausflugsziel.\n",
      "Der See im Almtal, 11 km südlich des Ortszentrums von Grünau im Almtal ist über die Almseestraße L549, die am Westufer bis ans Südende verläuft, erreichbar.\n",
      "Landschaftlich hat Grünau sehr viel zu bieten. Zu den Hauptsehenswürdigkeiten zählen neben dem Almsee und dem umgebenden Landschaftsschutzgebiet mit seiner faszinierenden Tier- und Pflanzenwelt die Ödseen, der Cumberland Wildpark sowie die Kasbergalm.\n",
      "Die Klimadaten zeigen eine für die nördlichen Kalkalpen typische Temperatur- und Niederschlagsverteilung: kühle und niederschlagsreiche Sommer, mit einem Maximum von 16,6 °C bzw. 214 mm im Juli, und niederschlagsarme Winter, mit einem Temperaturminimum von −2,7 °C im Jänner.\n",
      "\n",
      "\n",
      "\n",
      "Abraham Lincoln  [ˈeɪbɹəhæm ˈliŋkən] (* 12. Februar 1809 bei Hodgenville, Hardin County, heute: LaRue County, Kentucky; † 15. April 1865 in Washington, D.C.) amtierte von 1861 bis 1865 als 16. Präsident der Vereinigten Staaten von Amerika.\n",
      "Lincolns Präsidentschaft gilt als eine der bedeutendsten in der Geschichte der Vereinigten Staaten: Die Wahl des Sklavereigegners veranlasste zunächst sieben, später weitere vier der sklavenhaltenden Südstaaten, aus der Union auszutreten und einen eigenen Staatenbund, die Konföderierten Staaten von Amerika, zu bilden.\n",
      "Im Jahr 1842 heiratete Abraham Lincoln Mary Todd, die einer reichen Familie von Pflanzern und Sklavenhaltern aus Kentucky entstammte. \n",
      "Er versprach, nicht als erster zu Gewaltmaßnahmen zu greifen, machte aber zugleich deutlich, dass sein Amtseid ihn verpflichte, einer Spaltung der Union auf jeden Fall entgegenzutreten\n",
      "Bei der Präsidentschaftswahl 1864 gewann Lincoln zwar eine Mehrheit im Staat, doch fiel diese deutlich geringer aus als 1860.\n",
      "Am 5. Mai 1865 wurde Abraham Lincoln auf dem Friedhof Oak Ridge Cemetery in seiner Heimatstadt Springfield beigesetzt.\n",
      "Heute wird der Mitbegründer der Republikanischen Partei von Angehörigen aller ethnischen Gruppen verehrt, von Konservativen und Liberalen ebenso wie von Linken. \n",
      "Mit über 334.000 Einwohnern ist sie die größte Stadt der Region Ostwestfalen-Lippe und deren wirtschaftliches Zentrum. \n",
      "Das Stadtgebiet gehört drei unterschiedlichen Naturräumen an. Der Norden und Nordosten einschließlich des Stadtzentrums sind in die Hügellandschaft der Ravensberger Mulde eingebettet. Unmittelbar südlich schließt sich der Gebirgszug des Teutoburger Waldes an, der Bielefeld von Westnordwest nach Ostsüdost durchzieht.\n",
      "In der Innenstadt fließt der Lutterbach. In der Literatur wird Bielefeld deshalb auch ab und an als am Lutterbach liegend beschrieben.\n",
      "Die Bevölkerungszahl Bielefelds überschritt 1930 in den damaligen Grenzen die Marke von 100.000 und machte die Stadt damit zur Großstadt. \n",
      "Die Kirche Heilig Geist an der Spandauer Allee im Bielefelder Ortsteil Dornberg gilt als ein Kleinod unter den modernen Kirchen im ostwestfälischen Raum. \n",
      "Der Informatiker Achim Held veröffentlichte im Jahr 1994 im Usenet einen satirischen Beitrag mit dem Titel Die Bielefeld-Verschwörung, in dem er die Existenz Bielefelds anzweifelte und deren Vortäuschung als Verschwörung bezeichnete. Im Internet hält sich dieser Scherz bis heute in Form der darauf formulierten Antwort von Joerg Pechau: „Bielefeld gibt es nicht“.\n",
      "Desoxyribonukleinsäure  (abgekürzt DNS), im Deutschen inzwischen meist als DNA (Abkürzung für englisch deoxyribonucleic acid) bezeichnet, ist eine Nukleinsäure, die sich als Polynukleotid aus einer Kette von vielen Nukleotiden zusammensetzt. \n",
      "Im Normalzustand ist DNA in Form einer Doppelhelix aufgebaut. Ihre Bausteine sind vier verschiedene Nukleotide, die jeweils aus einem Phosphatrest, dem Zucker Desoxyribose und einer von vier organischen Basen (Adenin, Thymin, Guanin und Cytosin, oft abgekürzt mit A, T, G und C) bestehen.\n",
      "Den strukturellen Aufbau der DNA zu entschlüsseln und im Modell nachzubilden gelang dem US-Amerikaner James Watson und dem Briten Francis Crick am 28. Februar 1953.\n",
      "DNA kommt normalerweise als schraubenförmige Doppelhelix in einer Konformation vor, die B-DNA genannt wird. \n",
      "Die fünf Kohlenstoffatome einer Desoxyribose sind von 1' (sprich Eins Strich) bis 5' nummeriert. Am 1'-Ende dieses Zuckers ist die Base gebunden. Am 5'-Ende hängt der Phosphatrest. Genau genommen handelt es sich bei der Desoxyribose um die 2-Desoxyribose;\n",
      "Königswasser, selten auch Königssäure genannt, ist ein Gemisch aus konzentrierter (37%iger) Salzsäure und konzentrierter (65%iger) Salpetersäure im Verhältnis 3 zu 1.\n",
      "Es war dem persischen Autor Ali Geber schon im 8. Jahrhundert bekannt.\n",
      "Der Name Königswasser (lat. aqua regis oder aqua regia ‚königliches Wasser‘) leitet sich von der Fähigkeit dieser Mischung ab, die „königlichen“ Edelmetalle Gold und Platin zu lösen.\n",
      "Aus Gold entsteht dabei Tetrachlorogold(III)-säure, aus Platin Platin(IV)-chlorid aus der entstehenden Hexachloroplatinsäure.\n",
      "Tetrachlorogoldsäure, HAuCl4 ist eine chemische Verbindung von Gold und Chlor und ein wichtiger Ausgangsstoff für andere Goldverbindungen.\n",
      "Die einfachste und wichtigste Gewinnungsart von Tetrachlorogoldsäure ist die Auflösung von elementarem Gold in Königswasser, einer Mischung aus Salz- und Salpetersäure\n",
      "Julia Fiona Roberts (* 28. Oktober 1967 in Atlanta, Georgia) ist eine US-amerikanische Schauspielerin.\n",
      "Sie hatte 1990 mit der Filmromanze Pretty Womanihren internationalen Durchbruch und erhielt für die Rolle den Golden Globe und eine Oscar-Nominierung\n",
      "Julia Roberts wurde 1991 für den Oscar in der Kategorie Beste Hauptdarstellerin nominiert.\n",
      "Mit Filmen wie Die Akte (1993), Die Hochzeit meines besten Freundes (1997), Notting Hill (1999) und Die Braut, die sich nicht traut (1999) etablierte sie sich als eine der erfolgreichsten Schauspielerinnen Hollywoods.\n",
      "Die Hauptrolle spielt Julia Roberts, die für ihre Darstellung den Oscar in der Kategorie „Beste Hauptdarstellerin“ erhielt.\n",
      "Ihre Eltern, Walter Grady Roberts (1933–1977) und Betty Lou Bredemus (1934–2015), leiteten eine Schauspielschule für Kinder in der Innenstadt von Atlanta, die auch von Julias beiden älteren Geschwistern Eric Roberts (* 1956) und Lisa Roberts Gillan (* 1965) besucht wurde.\n",
      "1997 landete Roberts mit der romantischen Komödie Die Hochzeit meines besten Freundes einen weltweiten Kinohit.\n",
      "Der Großglockner (häufig auch kurz Glockner genannt[1]) ist mit einer Höhe von 3798 m ü. A.[2] der höchste Berg Österreichs.\n",
      "Seit den ersten Erkundungen Ende des 18. Jahrhunderts und der Erstbesteigung durch vier Teilnehmer einer Großexpedition unter der Leitung von Fürstbischof Salm-Reifferscheidt-Krautheim im Jahr 1800 spielte der Großglockner eine wichtige Rolle in der Entwicklung des Alpinismus.\n",
      "Bis heute ist er von großer Bedeutung für den Fremdenverkehr in der Region und mit mehr als 5000 Gipfelbesteigungen pro Jahr ein beliebtes Ziel der Bergsteiger.\n",
      "Der Großglockner ist ein pyramidenförmiger Felsgipfel, der aufgrund seines hochalpinen, stark vergletscherten Erscheinungsbildes häufig mit den Bergen der Westalpen verglichen wird.\n",
      "Die Flora des Großglocknergebiets besteht aus alpinen und subalpinen Pflanzenarten\n",
      "1919, als Südtirol nach dem Vertrag von Saint-Germain Italien zugesprochen wurde, löste der Glockner den Ortler als höchster Berg Österreichs ab.\n",
      "Edle Berggestalt, schönster Gipfel der Ostalpen und höchste Erhebung von Österreich, wuchtiger, westalpiner Charakter; besteht aus Grünstein, das die schroffe Gipfelform erklärt.\n",
      "\n"
     ]
    }
   ],
   "source": [
    "print(test_document)"
   ]
  },
  {
   "cell_type": "code",
   "execution_count": 20,
   "metadata": {
    "scrolled": true
   },
   "outputs": [],
   "source": [
    "# transform the document to vector space\n",
    "test_vec = dictionary.doc2bow(preprocess_text(test_document))\n",
    "# convert to lda space\n",
    "test_vec_lda = lda[test_vec]"
   ]
  },
  {
   "cell_type": "code",
   "execution_count": 21,
   "metadata": {
    "scrolled": true
   },
   "outputs": [],
   "source": [
    "# get the similarities\n",
    "sims = corpus_index[test_vec_lda]"
   ]
  },
  {
   "cell_type": "code",
   "execution_count": 22,
   "metadata": {
    "scrolled": true
   },
   "outputs": [
    {
     "name": "stdout",
     "output_type": "stream",
     "text": [
      "[(0, 0.01008058), (1, 0.03768393), (2, 0.0), (3, 0.8155303), (4, 0.8115323), (5, 0.048745703), (6, 0.0), (7, 0.12518354), (8, 0.12518354), (9, 0.12518354), (10, 0.12518354), (11, 0.07066945), (12, 0.1100373), (13, 0.084560685), (14, 0.10474379), (15, 0.12518354), (16, 0.09474901), (17, 0.12518354), (18, 0.12518354), (19, 0.12518354), (20, 0.10801512), (21, 0.09821261), (22, 0.0), (23, 0.12518354), (24, 0.12518354), (25, 0.12518354), (26, 0.042796742), (27, 0.0), (28, 0.0), (29, 0.08997903), (30, 0.07212468), (31, 0.050159145), (32, 0.11552935), (33, 0.04233185), (34, 0.22099994), (35, 0.0029901767), (36, 0.0029772343), (37, 0.0021655203), (38, 0.13527161), (39, 0.0), (40, 0.0), (41, 0.24710418), (42, 0.013038034), (43, 0.0), (44, 0.0), (45, 0.60376626), (46, 0.0), (47, 0.92531735), (48, 0.0055418247), (49, 0.0047619), (50, 0.083487034), (51, 0.014006715), (52, 0.0), (53, 0.11487424), (54, 0.0028934155), (55, 0.0), (56, 0.04766563), (57, 0.01629321), (58, 0.4882217), (59, 0.011836447), (60, 0.012180971), (61, 0.09910627), (62, 0.20347835), (63, 0.04233185), (64, 0.0), (65, 0.0), (66, 0.0), (67, 0.0), (68, 0.04233185), (69, 0.004194516), (70, 0.01059628), (71, 0.003906515), (72, 0.0), (73, 0.25122556), (74, 0.04889194), (75, 0.22368647), (76, 0.0), (77, 0.047633406), (78, 0.0029860302), (79, 0.008859796), (80, 0.0), (81, 0.0), (82, 0.656332), (83, 0.25588423), (84, 0.17269358), (85, 0.4190927), (86, 0.038368206), (87, 0.0), (88, 0.16860712), (89, 0.15079576), (90, 0.9236614), (91, 0.0), (92, 0.08637131), (93, 0.13796353), (94, 0.25638035), (95, 0.04480445), (96, 0.012711648), (97, 0.27241355), (98, 0.20682153), (99, 0.059354983), (100, 0.108411215), (101, 0.09943828), (102, 0.111409314), (103, 0.13926147), (104, 0.0), (105, 0.0029670917), (106, 0.0), (107, 0.10827421), (108, 0.0031295547), (109, 0.02512394), (110, 0.0), (111, 0.04246432), (112, 0.0), (113, 0.5970555), (114, 0.0804012), (115, 0.0), (116, 0.0), (117, 0.0), (118, 0.0), (119, 0.9236614), (120, 0.0), (121, 0.06679104), (122, 0.06704586), (123, 0.17746532), (124, 0.0), (125, 0.0), (126, 0.029322708), (127, 0.0), (128, 0.0031480032), (129, 0.19753598), (130, 0.028801298), (131, 0.0), (132, 0.08392727), (133, 0.0), (134, 0.0), (135, 0.0), (136, 0.056877322), (137, 0.024640325), (138, 0.17866543), (139, 0.0), (140, 0.08505104), (141, 0.0), (142, 0.0), (143, 0.057848625), (144, 0.0), (145, 0.004758174), (146, 0.118552275), (147, 0.027925966), (148, 0.0), (149, 0.0), (150, 0.020803519), (151, 0.036651373), (152, 0.0), (153, 0.0017552676), (154, 0.0), (155, 0.0), (156, 0.0), (157, 0.10011175), (158, 0.0), (159, 0.03551413), (160, 0.01005937), (161, 0.044497125), (162, 0.04233185), (163, 0.003073572), (164, 0.004160044), (165, 0.0), (166, 0.0), (167, 0.0), (168, 0.0), (169, 0.0), (170, 0.093615286), (171, 0.04233185), (172, 0.15242104), (173, 0.024099933), (174, 0.012340014), (175, 0.045312054), (176, 0.0), (177, 0.0), (178, 0.08913891), (179, 0.0), (180, 0.102551185), (181, 0.060240496), (182, 0.08614101), (183, 0.08428134), (184, 0.0021904637), (185, 0.0), (186, 0.0), (187, 0.0), (188, 0.0), (189, 0.0), (190, 0.0), (191, 0.0), (192, 0.12518354), (193, 0.12518354), (194, 0.12518354), (195, 0.287511), (196, 0.0), (197, 0.0), (198, 0.2210935), (199, 0.22653992)]\n"
     ]
    }
   ],
   "source": [
    "sims = corpus_index[test_vec_lda]\n",
    "print(list(enumerate(sims)))"
   ]
  },
  {
   "cell_type": "markdown",
   "metadata": {},
   "source": [
    "## Results"
   ]
  },
  {
   "cell_type": "code",
   "execution_count": 25,
   "metadata": {
    "scrolled": true
   },
   "outputs": [
    {
     "name": "stdout",
     "output_type": "stream",
     "text": [
      "Similarity Score:  0.8155303 \n",
      " Document ID: 3 \n",
      " Title: Anschluss (Luhmann) \n",
      " ------------------------------------\n",
      "Similarity Score:  0.8115323 \n",
      " Document ID: 4 \n",
      " Title: Anschlussfähigkeit \n",
      " ------------------------------------\n",
      "Similarity Score:  0.92531735 \n",
      " Document ID: 47 \n",
      " Title: Al Pacino \n",
      " ------------------------------------\n",
      "Similarity Score:  0.9236614 \n",
      " Document ID: 90 \n",
      " Title: Alicia Silverstone \n",
      " ------------------------------------\n",
      "Similarity Score:  0.9236614 \n",
      " Document ID: 119 \n",
      " Title: Atlantik \n",
      " ------------------------------------\n",
      "5 cases of possible plagiarism detected.\n"
     ]
    }
   ],
   "source": [
    "hits = 0\n",
    "for ids in list(enumerate(sims)):\n",
    "    if ids[1] >= sim_threshold:\n",
    "        hits += 1\n",
    "        title = title_ids.get(ids[0])\n",
    "        print(\"Similarity Score: \",ids[1],\"\\n\",\"Document ID:\",ids[0],\"\\n\",\"Title:\", title,\"\\n\", \"------------------------------------\")\n",
    "print(hits, \"cases of possible plagiarism detected.\")"
   ]
  },
  {
   "cell_type": "code",
   "execution_count": 39,
   "metadata": {},
   "outputs": [],
   "source": [
    "hit_ids = {}\n",
    "for ids in list(enumerate(sims)):\n",
    "    if ids[1] >= sim_threshold:\n",
    "        hit_ids[ids[0]] = ids[1]"
   ]
  },
  {
   "cell_type": "code",
   "execution_count": 40,
   "metadata": {},
   "outputs": [
    {
     "data": {
      "text/plain": [
       "{3: 0.8155303, 4: 0.8115323, 47: 0.92531735, 90: 0.9236614, 119: 0.9236614}"
      ]
     },
     "execution_count": 40,
     "metadata": {},
     "output_type": "execute_result"
    }
   ],
   "source": [
    "hit_ids"
   ]
  },
  {
   "cell_type": "markdown",
   "metadata": {},
   "source": [
    "## Sentence Similarity\n",
    "\n",
    "The next step would be to define all documents that were found to have a specific similarity score as a new corpus. Then we can check the similarty score for each sentence from the input document in relation to the sentences from the \"new\" corpus."
   ]
  },
  {
   "cell_type": "markdown",
   "metadata": {},
   "source": [
    "### Build new dictionary"
   ]
  },
  {
   "cell_type": "code",
   "execution_count": 52,
   "metadata": {},
   "outputs": [
    {
     "name": "stdout",
     "output_type": "stream",
     "text": [
      "Wall time: 930 ms\n"
     ]
    }
   ],
   "source": [
    "%%time\n",
    "index = 0\n",
    "first_elem = True\n",
    "# loop through all nodes\n",
    "for event, elem in ET.iterparse(xml_file, events = (\"start\", \"end\")):        \n",
    "    if index < num_documents:\n",
    "        # check if current node contains a document\n",
    "        if event == \"end\" and \"text\" in elem.tag:\n",
    "            if index in hit_ids.keys():\n",
    "                # preprocess the text\n",
    "                text = preprocess_text(elem.text)\n",
    "                # if this is the first document found, create a new dictionary with it\n",
    "                if first_elem:\n",
    "                    dictionary_hits = Dictionary([text])\n",
    "                    first_elem = False\n",
    "                    index += 1\n",
    "                # all documents after the first one get appended to the dictionary\n",
    "                else:\n",
    "                    dictionary_hits.add_documents([text])\n",
    "                    index += 1\n",
    "                # clear the node\n",
    "                elem.clear()\n",
    "                \n",
    "            else:\n",
    "                index += 1\n",
    "                elem.clear()\n",
    "    else:\n",
    "        break\n"
   ]
  },
  {
   "cell_type": "code",
   "execution_count": 42,
   "metadata": {},
   "outputs": [
    {
     "name": "stdout",
     "output_type": "stream",
     "text": [
      "Dictionary(1168 unique tokens: ['abrücken', 'akt', 'akzeptieren', 'aneinander', 'anregung']...)\n"
     ]
    }
   ],
   "source": [
    "print(dictionary_hits)"
   ]
  },
  {
   "cell_type": "code",
   "execution_count": 90,
   "metadata": {},
   "outputs": [],
   "source": [
    "# Define a smaller corpus, containing only the first i documents:\n",
    "class MyCorpus_small_hits:\n",
    "    def __iter__(self):\n",
    "        index = 0\n",
    "        # define the XML tree\n",
    "        for event, elem in ET.iterparse(xml_file, events = (\"start\", \"end\")):\n",
    "            if index < num_documents:\n",
    "                # Each document is represented as an object between <text> tags in the xml file\n",
    "                if event == 'end' and \"text\" in elem.tag:\n",
    "                    if index in hit_ids.keys():\n",
    "                        yield dictionary_hits.doc2bow(preprocess_text(str(elem.text)))\n",
    "                    index+=1\n",
    "                    # clear the node\n",
    "                    elem.clear()\n",
    "                else:\n",
    "                    index+=1\n",
    "                    elem.clear()\n",
    "            else:\n",
    "                break    "
   ]
  },
  {
   "cell_type": "code",
   "execution_count": 91,
   "metadata": {},
   "outputs": [],
   "source": [
    "corpus_small_hits = MyCorpus_small_hits()"
   ]
  },
  {
   "cell_type": "code",
   "execution_count": 92,
   "metadata": {},
   "outputs": [
    {
     "name": "stdout",
     "output_type": "stream",
     "text": [
      "Wall time: 9.01 ms\n"
     ]
    }
   ],
   "source": [
    "%%time\n",
    "hit_lda = LdaMulticore(corpus_small_hits, num_topics=100, id2word=dictionary_hits)"
   ]
  },
  {
   "cell_type": "code",
   "execution_count": 93,
   "metadata": {},
   "outputs": [
    {
     "name": "stdout",
     "output_type": "stream",
     "text": [
      "LdaModel(num_terms=1168, num_topics=100, decay=0.5, chunksize=2000)\n"
     ]
    }
   ],
   "source": [
    "print(hit_lda)"
   ]
  },
  {
   "cell_type": "code",
   "execution_count": 94,
   "metadata": {},
   "outputs": [
    {
     "name": "stdout",
     "output_type": "stream",
     "text": [
      "Wall time: 1 ms\n"
     ]
    }
   ],
   "source": [
    "%%time\n",
    "corpus_hit_index = similarities.MatrixSimilarity(list(hit_lda[corpus_small_hits]), num_features=len(dictionary_hits))"
   ]
  },
  {
   "cell_type": "code",
   "execution_count": 96,
   "metadata": {},
   "outputs": [
    {
     "name": "stdout",
     "output_type": "stream",
     "text": [
      "MatrixSimilarity<0 docs, 1168 features>\n"
     ]
    }
   ],
   "source": [
    "print(corpus_hit_index)"
   ]
  },
  {
   "cell_type": "code",
   "execution_count": 97,
   "metadata": {},
   "outputs": [],
   "source": [
    "#slice test document to sentences\n",
    "test_doc_raw_slice = []\n",
    "for split in spacy_data(test_document).sents:\n",
    "    test_doc_raw_slice.append(preprocess_text(str(split)))"
   ]
  },
  {
   "cell_type": "code",
   "execution_count": 98,
   "metadata": {},
   "outputs": [],
   "source": [
    "sim_hits = []\n",
    "for sentence in test_doc_raw_slice:\n",
    "    # test doc Sätze vs hit_corpus \n",
    "    test_vec = dictionary_hits.doc2bow(sentence)\n",
    "    # convert to lda space\n",
    "    test_vec_lda = hit_lda[test_vec]\n",
    "    sim_hits.append(corpus_hit_index[test_vec_lda])"
   ]
  },
  {
   "cell_type": "code",
   "execution_count": 99,
   "metadata": {},
   "outputs": [
    {
     "data": {
      "text/plain": [
       "[array([], dtype=float32),\n",
       " array([], dtype=float32),\n",
       " array([], dtype=float32),\n",
       " array([], dtype=float32),\n",
       " array([], dtype=float32),\n",
       " array([], dtype=float32),\n",
       " array([], dtype=float32),\n",
       " array([], dtype=float32),\n",
       " array([], dtype=float32),\n",
       " array([], dtype=float32),\n",
       " array([], dtype=float32),\n",
       " array([], dtype=float32),\n",
       " array([], dtype=float32),\n",
       " array([], dtype=float32),\n",
       " array([], dtype=float32),\n",
       " array([], dtype=float32),\n",
       " array([], dtype=float32),\n",
       " array([], dtype=float32),\n",
       " array([], dtype=float32),\n",
       " array([], dtype=float32),\n",
       " array([], dtype=float32),\n",
       " array([], dtype=float32),\n",
       " array([], dtype=float32),\n",
       " array([], dtype=float32),\n",
       " array([], dtype=float32),\n",
       " array([], dtype=float32),\n",
       " array([], dtype=float32),\n",
       " array([], dtype=float32),\n",
       " array([], dtype=float32),\n",
       " array([], dtype=float32),\n",
       " array([], dtype=float32),\n",
       " array([], dtype=float32),\n",
       " array([], dtype=float32),\n",
       " array([], dtype=float32),\n",
       " array([], dtype=float32),\n",
       " array([], dtype=float32),\n",
       " array([], dtype=float32),\n",
       " array([], dtype=float32),\n",
       " array([], dtype=float32),\n",
       " array([], dtype=float32),\n",
       " array([], dtype=float32),\n",
       " array([], dtype=float32),\n",
       " array([], dtype=float32),\n",
       " array([], dtype=float32),\n",
       " array([], dtype=float32),\n",
       " array([], dtype=float32),\n",
       " array([], dtype=float32),\n",
       " array([], dtype=float32),\n",
       " array([], dtype=float32),\n",
       " array([], dtype=float32),\n",
       " array([], dtype=float32),\n",
       " array([], dtype=float32),\n",
       " array([], dtype=float32),\n",
       " array([], dtype=float32),\n",
       " array([], dtype=float32),\n",
       " array([], dtype=float32),\n",
       " array([], dtype=float32),\n",
       " array([], dtype=float32),\n",
       " array([], dtype=float32),\n",
       " array([], dtype=float32),\n",
       " array([], dtype=float32),\n",
       " array([], dtype=float32),\n",
       " array([], dtype=float32),\n",
       " array([], dtype=float32),\n",
       " array([], dtype=float32),\n",
       " array([], dtype=float32),\n",
       " array([], dtype=float32),\n",
       " array([], dtype=float32),\n",
       " array([], dtype=float32),\n",
       " array([], dtype=float32),\n",
       " array([], dtype=float32),\n",
       " array([], dtype=float32),\n",
       " array([], dtype=float32),\n",
       " array([], dtype=float32),\n",
       " array([], dtype=float32),\n",
       " array([], dtype=float32),\n",
       " array([], dtype=float32),\n",
       " array([], dtype=float32),\n",
       " array([], dtype=float32),\n",
       " array([], dtype=float32),\n",
       " array([], dtype=float32),\n",
       " array([], dtype=float32),\n",
       " array([], dtype=float32),\n",
       " array([], dtype=float32),\n",
       " array([], dtype=float32),\n",
       " array([], dtype=float32),\n",
       " array([], dtype=float32),\n",
       " array([], dtype=float32),\n",
       " array([], dtype=float32),\n",
       " array([], dtype=float32),\n",
       " array([], dtype=float32),\n",
       " array([], dtype=float32),\n",
       " array([], dtype=float32),\n",
       " array([], dtype=float32),\n",
       " array([], dtype=float32),\n",
       " array([], dtype=float32),\n",
       " array([], dtype=float32),\n",
       " array([], dtype=float32),\n",
       " array([], dtype=float32),\n",
       " array([], dtype=float32),\n",
       " array([], dtype=float32),\n",
       " array([], dtype=float32),\n",
       " array([], dtype=float32),\n",
       " array([], dtype=float32),\n",
       " array([], dtype=float32),\n",
       " array([], dtype=float32),\n",
       " array([], dtype=float32),\n",
       " array([], dtype=float32),\n",
       " array([], dtype=float32),\n",
       " array([], dtype=float32),\n",
       " array([], dtype=float32),\n",
       " array([], dtype=float32),\n",
       " array([], dtype=float32),\n",
       " array([], dtype=float32),\n",
       " array([], dtype=float32),\n",
       " array([], dtype=float32),\n",
       " array([], dtype=float32),\n",
       " array([], dtype=float32),\n",
       " array([], dtype=float32),\n",
       " array([], dtype=float32),\n",
       " array([], dtype=float32),\n",
       " array([], dtype=float32),\n",
       " array([], dtype=float32),\n",
       " array([], dtype=float32),\n",
       " array([], dtype=float32),\n",
       " array([], dtype=float32),\n",
       " array([], dtype=float32),\n",
       " array([], dtype=float32),\n",
       " array([], dtype=float32),\n",
       " array([], dtype=float32),\n",
       " array([], dtype=float32),\n",
       " array([], dtype=float32),\n",
       " array([], dtype=float32),\n",
       " array([], dtype=float32),\n",
       " array([], dtype=float32),\n",
       " array([], dtype=float32),\n",
       " array([], dtype=float32),\n",
       " array([], dtype=float32),\n",
       " array([], dtype=float32),\n",
       " array([], dtype=float32),\n",
       " array([], dtype=float32),\n",
       " array([], dtype=float32),\n",
       " array([], dtype=float32),\n",
       " array([], dtype=float32),\n",
       " array([], dtype=float32),\n",
       " array([], dtype=float32),\n",
       " array([], dtype=float32),\n",
       " array([], dtype=float32),\n",
       " array([], dtype=float32),\n",
       " array([], dtype=float32),\n",
       " array([], dtype=float32),\n",
       " array([], dtype=float32)]"
      ]
     },
     "execution_count": 99,
     "metadata": {},
     "output_type": "execute_result"
    }
   ],
   "source": [
    "sim_hits"
   ]
  },
  {
   "cell_type": "code",
   "execution_count": 100,
   "metadata": {},
   "outputs": [
    {
     "name": "stdout",
     "output_type": "stream",
     "text": [
      "Similarity Score:  [] \n",
      " Document ID: 0 \n",
      " Title: Alan Smithee \n",
      " ------------------------------------\n",
      "Similarity Score:  [] \n",
      " Document ID: 1 \n",
      " Title: Actinium \n",
      " ------------------------------------\n",
      "Similarity Score:  [] \n",
      " Document ID: 2 \n",
      " Title: Ang Lee \n",
      " ------------------------------------\n",
      "Similarity Score:  [] \n",
      " Document ID: 3 \n",
      " Title: Anschluss (Luhmann) \n",
      " ------------------------------------\n",
      "Similarity Score:  [] \n",
      " Document ID: 4 \n",
      " Title: Anschlussfähigkeit \n",
      " ------------------------------------\n",
      "Similarity Score:  [] \n",
      " Document ID: 5 \n",
      " Title: Aussagenlogik \n",
      " ------------------------------------\n",
      "Similarity Score:  [] \n",
      " Document ID: 6 \n",
      " Title: Autopoiese \n",
      " ------------------------------------\n",
      "Similarity Score:  [] \n",
      " Document ID: 7 \n",
      " Title: A.A. \n",
      " ------------------------------------\n",
      "Similarity Score:  [] \n",
      " Document ID: 8 \n",
      " Title: Liste von Autoren/A \n",
      " ------------------------------------\n",
      "Similarity Score:  [] \n",
      " Document ID: 9 \n",
      " Title: Liste von Autoren/H \n",
      " ------------------------------------\n",
      "Similarity Score:  [] \n",
      " Document ID: 10 \n",
      " Title: Liste von Autoren/C \n",
      " ------------------------------------\n",
      "Similarity Score:  [] \n",
      " Document ID: 11 \n",
      " Title: Liste von Autoren/I \n",
      " ------------------------------------\n",
      "Similarity Score:  [] \n",
      " Document ID: 12 \n",
      " Title: Liste von Autoren/K \n",
      " ------------------------------------\n",
      "Similarity Score:  [] \n",
      " Document ID: 13 \n",
      " Title: Liste von Autoren/J \n",
      " ------------------------------------\n",
      "Similarity Score:  [] \n",
      " Document ID: 14 \n",
      " Title: Liste von Autoren/V \n",
      " ------------------------------------\n",
      "Similarity Score:  [] \n",
      " Document ID: 15 \n",
      " Title: Liste von Autoren/G \n",
      " ------------------------------------\n",
      "Similarity Score:  [] \n",
      " Document ID: 16 \n",
      " Title: Liste von Autoren/W \n",
      " ------------------------------------\n",
      "Similarity Score:  [] \n",
      " Document ID: 17 \n",
      " Title: Liste von Autoren/B \n",
      " ------------------------------------\n",
      "Similarity Score:  [] \n",
      " Document ID: 18 \n",
      " Title: Liste von Autoren/D \n",
      " ------------------------------------\n",
      "Similarity Score:  [] \n",
      " Document ID: 19 \n",
      " Title: Liste von Autoren/S \n",
      " ------------------------------------\n",
      "Similarity Score:  [] \n",
      " Document ID: 20 \n",
      " Title: Liste von Autoren/T \n",
      " ------------------------------------\n",
      "Similarity Score:  [] \n",
      " Document ID: 21 \n",
      " Title: Liste von Autoren/M \n",
      " ------------------------------------\n",
      "Similarity Score:  [] \n",
      " Document ID: 22 \n",
      " Title: Liste von Autoren/O \n",
      " ------------------------------------\n",
      "Similarity Score:  [] \n",
      " Document ID: 23 \n",
      " Title: Liste von Autoren/F \n",
      " ------------------------------------\n",
      "Similarity Score:  [] \n",
      " Document ID: 24 \n",
      " Title: Liste von Autoren/E \n",
      " ------------------------------------\n",
      "Similarity Score:  [] \n",
      " Document ID: 25 \n",
      " Title: Liste von Autoren/L \n",
      " ------------------------------------\n",
      "Similarity Score:  [] \n",
      " Document ID: 26 \n",
      " Title: Liste von Autoren/N \n",
      " ------------------------------------\n",
      "Similarity Score:  [] \n",
      " Document ID: 27 \n",
      " Title: Liste von Autoren/P \n",
      " ------------------------------------\n",
      "Similarity Score:  [] \n",
      " Document ID: 28 \n",
      " Title: Liste von Autoren/Q \n",
      " ------------------------------------\n",
      "Similarity Score:  [] \n",
      " Document ID: 29 \n",
      " Title: Liste von Autoren/R \n",
      " ------------------------------------\n",
      "Similarity Score:  [] \n",
      " Document ID: 30 \n",
      " Title: Liste von Autoren/U \n",
      " ------------------------------------\n",
      "Similarity Score:  [] \n",
      " Document ID: 31 \n",
      " Title: Liste von Autoren/Y \n",
      " ------------------------------------\n",
      "Similarity Score:  [] \n",
      " Document ID: 32 \n",
      " Title: Liste von Autoren/Z \n",
      " ------------------------------------\n",
      "Similarity Score:  [] \n",
      " Document ID: 33 \n",
      " Title: Anthony Minghella \n",
      " ------------------------------------\n",
      "Similarity Score:  [] \n",
      " Document ID: 34 \n",
      " Title: US-amerikanischer Film \n",
      " ------------------------------------\n",
      "Similarity Score:  [] \n",
      " Document ID: 35 \n",
      " Title: Vorsätze für Maßeinheiten \n",
      " ------------------------------------\n",
      "Similarity Score:  [] \n",
      " Document ID: 36 \n",
      " Title: Abkürzungen/Gesetze und Recht \n",
      " ------------------------------------\n",
      "Similarity Score:  [] \n",
      " Document ID: 37 \n",
      " Title: Liste von Abkürzungen (Computer) \n",
      " ------------------------------------\n",
      "Similarity Score:  [] \n",
      " Document ID: 38 \n",
      " Title: Liste von Unternehmen mit Namensherkunftserklärungen \n",
      " ------------------------------------\n",
      "Similarity Score:  [] \n",
      " Document ID: 39 \n",
      " Title: ISO 4217 \n",
      " ------------------------------------\n",
      "Similarity Score:  [] \n",
      " Document ID: 40 \n",
      " Title: Achsensprung (Film) \n",
      " ------------------------------------\n",
      "Similarity Score:  [] \n",
      " Document ID: 41 \n",
      " Title: Alfred Hitchcock \n",
      " ------------------------------------\n",
      "Similarity Score:  [] \n",
      " Document ID: 42 \n",
      " Title: Auteur-Theorie \n",
      " ------------------------------------\n",
      "Similarity Score:  [] \n",
      " Document ID: 43 \n",
      " Title: Aki Kaurismäki \n",
      " ------------------------------------\n",
      "Similarity Score:  [] \n",
      " Document ID: 44 \n",
      " Title: Muhammad ibn Musa al-Chwarizmi \n",
      " ------------------------------------\n",
      "Similarity Score:  [] \n",
      " Document ID: 45 \n",
      " Title: Anime \n",
      " ------------------------------------\n",
      "Similarity Score:  [] \n",
      " Document ID: 46 \n",
      " Title: Actionfilm \n",
      " ------------------------------------\n",
      "Similarity Score:  [] \n",
      " Document ID: 47 \n",
      " Title: Al Pacino \n",
      " ------------------------------------\n",
      "Similarity Score:  [] \n",
      " Document ID: 48 \n",
      " Title: Alkohole \n",
      " ------------------------------------\n",
      "Similarity Score:  [] \n",
      " Document ID: 49 \n",
      " Title: The Visitors \n",
      " ------------------------------------\n",
      "Similarity Score:  [] \n",
      " Document ID: 50 \n",
      " Title: Aluminium \n",
      " ------------------------------------\n",
      "Similarity Score:  [] \n",
      " Document ID: 51 \n",
      " Title: Antimon \n",
      " ------------------------------------\n",
      "Similarity Score:  [] \n",
      " Document ID: 52 \n",
      " Title: Argon \n",
      " ------------------------------------\n",
      "Similarity Score:  [] \n",
      " Document ID: 53 \n",
      " Title: Arsen \n",
      " ------------------------------------\n",
      "Similarity Score:  [] \n",
      " Document ID: 54 \n",
      " Title: Astat \n",
      " ------------------------------------\n",
      "Similarity Score:  [] \n",
      " Document ID: 55 \n",
      " Title: Alkalimetalle \n",
      " ------------------------------------\n",
      "Similarity Score:  [] \n",
      " Document ID: 56 \n",
      " Title: Actinoide \n",
      " ------------------------------------\n",
      "Similarity Score:  [] \n",
      " Document ID: 57 \n",
      " Title: Americium \n",
      " ------------------------------------\n",
      "Similarity Score:  [] \n",
      " Document ID: 58 \n",
      " Title: Atom \n",
      " ------------------------------------\n",
      "Similarity Score:  [] \n",
      " Document ID: 59 \n",
      " Title: Arzt \n",
      " ------------------------------------\n",
      "Similarity Score:  [] \n",
      " Document ID: 60 \n",
      " Title: Anthropologie \n",
      " ------------------------------------\n",
      "Similarity Score:  [] \n",
      " Document ID: 61 \n",
      " Title: Alexander der Große \n",
      " ------------------------------------\n",
      "Similarity Score:  [] \n",
      " Document ID: 62 \n",
      " Title: Antike \n",
      " ------------------------------------\n",
      "Similarity Score:  [] \n",
      " Document ID: 63 \n",
      " Title: Anthony Hope \n",
      " ------------------------------------\n",
      "Similarity Score:  [] \n",
      " Document ID: 64 \n",
      " Title: Ångström (Einheit) \n",
      " ------------------------------------\n",
      "Similarity Score:  [] \n",
      " Document ID: 65 \n",
      " Title: Ampere \n",
      " ------------------------------------\n",
      "Similarity Score:  [] \n",
      " Document ID: 66 \n",
      " Title: Acre \n",
      " ------------------------------------\n",
      "Similarity Score:  [] \n",
      " Document ID: 67 \n",
      " Title: Apostilb \n",
      " ------------------------------------\n",
      "Similarity Score:  [] \n",
      " Document ID: 68 \n",
      " Title: Ar (Einheit) \n",
      " ------------------------------------\n",
      "Similarity Score:  [] \n",
      " Document ID: 69 \n",
      " Title: Arbeit (Sozialwissenschaften) \n",
      " ------------------------------------\n",
      "Similarity Score:  [] \n",
      " Document ID: 70 \n",
      " Title: Atomare Masseneinheit \n",
      " ------------------------------------\n",
      "Similarity Score:  [] \n",
      " Document ID: 71 \n",
      " Title: Anglizismus \n",
      " ------------------------------------\n",
      "Similarity Score:  [] \n",
      " Document ID: 72 \n",
      " Title: Astronom \n",
      " ------------------------------------\n",
      "Similarity Score:  [] \n",
      " Document ID: 73 \n",
      " Title: Alan Turing \n",
      " ------------------------------------\n",
      "Similarity Score:  [] \n",
      " Document ID: 74 \n",
      " Title: Archäologie \n",
      " ------------------------------------\n",
      "Similarity Score:  [] \n",
      " Document ID: 75 \n",
      " Title: American Standard Code for Information Interchange \n",
      " ------------------------------------\n",
      "Similarity Score:  [] \n",
      " Document ID: 76 \n",
      " Title: Albigenser \n",
      " ------------------------------------\n",
      "Similarity Score:  [] \n",
      " Document ID: 77 \n",
      " Title: Außenbandruptur des oberen Sprunggelenkes \n",
      " ------------------------------------\n",
      "Similarity Score:  [] \n",
      " Document ID: 78 \n",
      " Title: Alphabet \n",
      " ------------------------------------\n",
      "Similarity Score:  [] \n",
      " Document ID: 79 \n",
      " Title: Arthur Harris \n",
      " ------------------------------------\n",
      "Similarity Score:  [] \n",
      " Document ID: 80 \n",
      " Title: Arthur Wellesley, 1. Duke of Wellington \n",
      " ------------------------------------\n",
      "Similarity Score:  [] \n",
      " Document ID: 81 \n",
      " Title: Astronomie \n",
      " ------------------------------------\n",
      "Similarity Score:  [] \n",
      " Document ID: 82 \n",
      " Title: Angelina Jolie \n",
      " ------------------------------------\n",
      "Similarity Score:  [] \n",
      " Document ID: 83 \n",
      " Title: Archimedes \n",
      " ------------------------------------\n",
      "Similarity Score:  [] \n",
      " Document ID: 84 \n",
      " Title: Aristoteles \n",
      " ------------------------------------\n",
      "Similarity Score:  [] \n",
      " Document ID: 85 \n",
      " Title: Abraham Lincoln \n",
      " ------------------------------------\n",
      "Similarity Score:  [] \n",
      " Document ID: 86 \n",
      " Title: Altweibersommer \n",
      " ------------------------------------\n",
      "Similarity Score:  [] \n",
      " Document ID: 87 \n",
      " Title: Ariel Sharon \n",
      " ------------------------------------\n",
      "Similarity Score:  [] \n",
      " Document ID: 88 \n",
      " Title: Nur-Sultan \n",
      " ------------------------------------\n",
      "Similarity Score:  [] \n",
      " Document ID: 89 \n",
      " Title: Angela Merkel \n",
      " ------------------------------------\n",
      "Similarity Score:  [] \n",
      " Document ID: 90 \n",
      " Title: Alicia Silverstone \n",
      " ------------------------------------\n",
      "Similarity Score:  [] \n",
      " Document ID: 91 \n",
      " Title: Al-Biruni \n",
      " ------------------------------------\n",
      "Similarity Score:  [] \n",
      " Document ID: 92 \n",
      " Title: Ankara \n",
      " ------------------------------------\n",
      "Similarity Score:  [] \n",
      " Document ID: 93 \n",
      " Title: Atheismus \n",
      " ------------------------------------\n",
      "Similarity Score:  [] \n",
      " Document ID: 94 \n",
      " Title: Anna Seghers \n",
      " ------------------------------------\n",
      "Similarity Score:  [] \n",
      " Document ID: 95 \n",
      " Title: Atmosphäre (Astronomie) \n",
      " ------------------------------------\n",
      "Similarity Score:  [] \n",
      " Document ID: 96 \n",
      " Title: Arvo Pärt \n",
      " ------------------------------------\n",
      "Similarity Score:  [] \n",
      " Document ID: 97 \n",
      " Title: Afghanistan \n",
      " ------------------------------------\n",
      "Similarity Score:  [] \n",
      " Document ID: 98 \n",
      " Title: Atonale Musik \n",
      " ------------------------------------\n",
      "Similarity Score:  [] \n",
      " Document ID: 99 \n",
      " Title: Akeleien \n",
      " ------------------------------------\n",
      "Similarity Score:  [] \n",
      " Document ID: 100 \n",
      " Title: Aleister Crowley \n",
      " ------------------------------------\n",
      "Similarity Score:  [] \n",
      " Document ID: 101 \n",
      " Title: Aikidō \n",
      " ------------------------------------\n",
      "Similarity Score:  [] \n",
      " Document ID: 102 \n",
      " Title: Wikipedia:Aktuelles \n",
      " ------------------------------------\n",
      "Similarity Score:  [] \n",
      " Document ID: 103 \n",
      " Title: Alexandria \n",
      " ------------------------------------\n",
      "Similarity Score:  [] \n",
      " Document ID: 104 \n",
      " Title: Anne Haigis \n",
      " ------------------------------------\n",
      "Similarity Score:  [] \n",
      " Document ID: 105 \n",
      " Title: Astrophysik \n",
      " ------------------------------------\n",
      "Similarity Score:  [] \n",
      " Document ID: 106 \n",
      " Title: Arbeitskampf \n",
      " ------------------------------------\n",
      "Similarity Score:  [] \n",
      " Document ID: 107 \n",
      " Title: Asien \n",
      " ------------------------------------\n",
      "Similarity Score:  [] \n",
      " Document ID: 108 \n",
      " Title: Arbeitsrecht (Deutschland) \n",
      " ------------------------------------\n",
      "Similarity Score:  [] \n",
      " Document ID: 109 \n",
      " Title: Aussperrung \n",
      " ------------------------------------\n",
      "Similarity Score:  [] \n",
      " Document ID: 110 \n",
      " Title: AP \n",
      " ------------------------------------\n",
      "Similarity Score:  [] \n",
      " Document ID: 111 \n",
      " Title: Augustus \n",
      " ------------------------------------\n",
      "Similarity Score:  [] \n",
      " Document ID: 112 \n",
      " Title: Argumentum lege non distinguente \n",
      " ------------------------------------\n",
      "Similarity Score:  [] \n",
      " Document ID: 113 \n",
      " Title: Atlantischer Ozean \n",
      " ------------------------------------\n",
      "Similarity Score:  [] \n",
      " Document ID: 114 \n",
      " Title: Arthur Schopenhauer \n",
      " ------------------------------------\n",
      "Similarity Score:  [] \n",
      " Document ID: 115 \n",
      " Title: Architektur (Informatik) \n",
      " ------------------------------------\n",
      "Similarity Score:  [] \n",
      " Document ID: 116 \n",
      " Title: Aemilianus (Kaiser) \n",
      " ------------------------------------\n",
      "Similarity Score:  [] \n",
      " Document ID: 117 \n",
      " Title: Aurelian \n",
      " ------------------------------------\n",
      "Similarity Score:  [] \n",
      " Document ID: 118 \n",
      " Title: Allgemeine Psychologie \n",
      " ------------------------------------\n",
      "Similarity Score:  [] \n",
      " Document ID: 119 \n",
      " Title: Atlantik \n",
      " ------------------------------------\n",
      "Similarity Score:  [] \n",
      " Document ID: 120 \n",
      " Title: Andrei Dmitrijewitsch Linde \n",
      " ------------------------------------\n",
      "Similarity Score:  [] \n",
      " Document ID: 121 \n",
      " Title: Apple \n",
      " ------------------------------------\n",
      "Similarity Score:  [] \n",
      " Document ID: 122 \n",
      " Title: Adolf Hitler \n",
      " ------------------------------------\n",
      "Similarity Score:  [] \n",
      " Document ID: 123 \n",
      " Title: Algerien \n",
      " ------------------------------------\n",
      "Similarity Score:  [] \n",
      " Document ID: 124 \n",
      " Title: Arbeitsspeicher \n",
      " ------------------------------------\n",
      "Similarity Score:  [] \n",
      " Document ID: 125 \n",
      " Title: Arcadius \n",
      " ------------------------------------\n",
      "Similarity Score:  [] \n",
      " Document ID: 126 \n",
      " Title: Ampelkoalition \n",
      " ------------------------------------\n",
      "Similarity Score:  [] \n",
      " Document ID: 127 \n",
      " Title: Avitus \n",
      " ------------------------------------\n",
      "Similarity Score:  [] \n",
      " Document ID: 128 \n",
      " Title: LEG – Adler und Pfeil \n",
      " ------------------------------------\n",
      "Similarity Score:  [] \n",
      " Document ID: 129 \n",
      " Title: Agatha Christie \n",
      " ------------------------------------\n",
      "Similarity Score:  [] \n",
      " Document ID: 130 \n",
      " Title: Arthur Dent \n",
      " ------------------------------------\n",
      "Similarity Score:  [] \n",
      " Document ID: 131 \n",
      " Title: Advanced Dungeons and Dragons \n",
      " ------------------------------------\n",
      "Similarity Score:  [] \n",
      " Document ID: 132 \n",
      " Title: Apollo-Programm \n",
      " ------------------------------------\n",
      "Similarity Score:  [] \n",
      " Document ID: 133 \n",
      " Title: April \n",
      " ------------------------------------\n",
      "Similarity Score:  [] \n",
      " Document ID: 134 \n",
      " Title: August \n",
      " ------------------------------------\n",
      "Similarity Score:  [] \n",
      " Document ID: 135 \n",
      " Title: Apollo \n",
      " ------------------------------------\n",
      "Similarity Score:  [] \n",
      " Document ID: 136 \n",
      " Title: Archimedisches Prinzip \n",
      " ------------------------------------\n",
      "Similarity Score:  [] \n",
      " Document ID: 137 \n",
      " Title: Ergotismus \n",
      " ------------------------------------\n",
      "Similarity Score:  [] \n",
      " Document ID: 138 \n",
      " Title: Alfred Nobel \n",
      " ------------------------------------\n",
      "Similarity Score:  [] \n",
      " Document ID: 139 \n",
      " Title: Amorph \n",
      " ------------------------------------\n",
      "Similarity Score:  [] \n",
      " Document ID: 140 \n",
      " Title: Arithmetisches Kodieren \n",
      " ------------------------------------\n",
      "Similarity Score:  [] \n",
      " Document ID: 141 \n",
      " Title: Abbildung \n",
      " ------------------------------------\n",
      "Similarity Score:  [] \n",
      " Document ID: 142 \n",
      " Title: Abbildung (Mathematik) \n",
      " ------------------------------------\n",
      "Similarity Score:  [] \n",
      " Document ID: 143 \n",
      " Title: Automobil \n",
      " ------------------------------------\n",
      "Similarity Score:  [] \n",
      " Document ID: 144 \n",
      " Title: Adam Riese \n",
      " ------------------------------------\n",
      "Similarity Score:  [] \n",
      " Document ID: 145 \n",
      " Title: Adam Ries \n",
      " ------------------------------------\n",
      "Similarity Score:  [] \n",
      " Document ID: 146 \n",
      " Title: Archaeopteryx \n",
      " ------------------------------------\n",
      "Similarity Score:  [] \n",
      " Document ID: 147 \n",
      " Title: Absoluter Nullpunkt \n",
      " ------------------------------------\n",
      "Similarity Score:  [] \n",
      " Document ID: 148 \n",
      " Title: Allgemeine Sprachwissenschaft \n",
      " ------------------------------------\n",
      "Similarity Score:  [] \n",
      " Document ID: 149 \n",
      " Title: Antonym \n",
      " ------------------------------------\n",
      "Similarity Score:  [] \n",
      " Document ID: 150 \n",
      " Title: Akkumulator \n",
      " ------------------------------------\n",
      "Similarity Score:  [] \n",
      " Document ID: 151 \n",
      " Title: André-Marie Ampère \n",
      " ------------------------------------\n",
      "5 cases of possible plagiarism detected.\n"
     ]
    }
   ],
   "source": [
    "for ids in list(enumerate(sim_hits)):\n",
    "    title = title_ids.get(ids[0])\n",
    "    print(\"Similarity Score: \",ids[1],\"\\n\",\"Document ID:\",ids[0],\"\\n\",\"Title:\", title,\"\\n\", \"------------------------------------\")\n",
    "print(hits, \"cases of possible plagiarism detected.\")"
   ]
  },
  {
   "cell_type": "code",
   "execution_count": 86,
   "metadata": {},
   "outputs": [
    {
     "name": "stdout",
     "output_type": "stream",
     "text": [
      "[(0, 0.0), (1, 0.0), (2, 0.18720087), (3, 0.0)]\n"
     ]
    }
   ],
   "source": [
    "#hits for all sentences\n",
    "sims_hits = corpus_hit_index[test_vec_lda]\n",
    "print(list(enumerate(sims_hits)))"
   ]
  }
 ],
 "metadata": {
  "kernelspec": {
   "display_name": "Python 3",
   "language": "python",
   "name": "python3"
  },
  "language_info": {
   "codemirror_mode": {
    "name": "ipython",
    "version": 3
   },
   "file_extension": ".py",
   "mimetype": "text/x-python",
   "name": "python",
   "nbconvert_exporter": "python",
   "pygments_lexer": "ipython3",
   "version": "3.8.6"
  }
 },
 "nbformat": 4,
 "nbformat_minor": 4
}
