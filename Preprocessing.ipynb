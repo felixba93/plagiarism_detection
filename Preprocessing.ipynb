{
 "cells": [
  {
   "cell_type": "code",
   "execution_count": 74,
   "metadata": {},
   "outputs": [
    {
     "data": {
      "text/plain": [
       "\"Tokenized words: ['Das', 'ist', 'ein', 'Beispielsatz', 'für', 'eine', 'Vorverarbeitung', '.', 'Übermorgen', 'ist', 'schönes', 'Wetter', '.', 'Meine', 'E-Mail', 'lautet', ':', 'max.mustermann@gmx.de', '?', '!']\""
      ]
     },
     "metadata": {},
     "output_type": "display_data"
    }
   ],
   "source": [
    "import spacy\n",
    "import de_core_news_sm\n",
    "\n",
    "nlp = de_core_news_sm.load()\n",
    "\n",
    "doc = nlp(\"Das ist ein Beispielsatz für eine Vorverarbeitung. Übermorgen ist schönes Wetter. Meine E-Mail lautet: max.mustermann@gmx.de?!\")\n",
    "spacy_words = [token.text for token in doc]\n",
    "display(f\"Tokenized words: {spacy_words}\")"
   ]
  },
  {
   "cell_type": "code",
   "execution_count": 62,
   "metadata": {},
   "outputs": [
    {
     "data": {
      "text/plain": [
       "'Punctuation symbols: !\"#$%&\\'()*+,-./:;<=>?@[\\\\]^_`{|}~'"
      ]
     },
     "metadata": {},
     "output_type": "display_data"
    }
   ],
   "source": [
    "import string\n",
    "\n",
    "display(f\"Punctuation symbols: {string.punctuation}\")"
   ]
  },
  {
   "cell_type": "code",
   "execution_count": 63,
   "metadata": {},
   "outputs": [
    {
     "data": {
      "text/plain": [
       "\"Python based removal: ['Das', 'ist', 'ein', 'Beispielsatz', 'für', 'eine', 'Vorverarbeitung', 'Übermorgen', 'ist', 'schönes', 'Wetter', 'Meine', 'E-Mail', 'lautet', 'max.mustermann@gmx.de']\""
      ]
     },
     "metadata": {},
     "output_type": "display_data"
    },
    {
     "data": {
      "text/plain": [
       "\"Spacy based removal: ['Das', 'ist', 'ein', 'Beispielsatz', 'für', 'eine', 'Vorverarbeitung', 'Übermorgen', 'ist', 'schönes', 'Wetter', 'Meine', 'E-Mail', 'lautet', 'max.mustermann@gmx.de']\""
      ]
     },
     "metadata": {},
     "output_type": "display_data"
    }
   ],
   "source": [
    "tokens = [t.text for t in doc]\n",
    "# python \n",
    "tokens_without_punct_python = [t for t in tokens if t not in string.punctuation]\n",
    "display(f\"Python based removal: {tokens_without_punct_python}\")\n",
    "\n",
    "tokens_without_punct_spacy = [t.text for t in doc if t.pos_ != 'PUNCT']\n",
    "display(f\"Spacy based removal: {tokens_without_punct_spacy}\")"
   ]
  },
  {
   "cell_type": "code",
   "execution_count": 65,
   "metadata": {},
   "outputs": [],
   "source": [
    "lemmas = [token.lemma_ for token in doc]"
   ]
  },
  {
   "cell_type": "code",
   "execution_count": 66,
   "metadata": {},
   "outputs": [
    {
     "name": "stdout",
     "output_type": "stream",
     "text": [
      "der sein einen Beispielsatz für einen Vorverarbeitung Übermorgen sein schön Wetter Meine lauten\n"
     ]
    }
   ],
   "source": [
    "# Remove tokens that are not alphabetic \n",
    "a_lemmas = [lemma for lemma in lemmas\n",
    "if lemma.isalpha() or lemma == '-PRON-'] \n",
    "# Print string after text cleaning\n",
    "print(' '.join(a_lemmas))"
   ]
  },
  {
   "cell_type": "code",
   "execution_count": 56,
   "metadata": {},
   "outputs": [
    {
     "name": "stdout",
     "output_type": "stream",
     "text": [
      "[('Das', 'PRON'), ('ist', 'AUX'), ('ein', 'DET'), ('Beispielsatz', 'NOUN'), ('für', 'ADP'), ('eine', 'DET'), ('Vorverarbeitung', 'NOUN'), ('.', 'PUNCT'), ('Übermorgen', 'VERB'), ('ist', 'AUX'), ('schönes', 'ADJ'), ('Wetter', 'NOUN'), ('.', 'PUNCT'), ('Meine', 'DET'), ('E-Mail', 'NOUN'), ('lautet', 'VERB'), (':', 'PUNCT'), ('max.mustermann@gmx.de', 'PROPN'), ('?', 'PUNCT'), ('!', 'PUNCT')]\n"
     ]
    }
   ],
   "source": [
    "# Generate list of tokens and pos tags\n",
    "pos = [(token.text, token.pos_) for token in doc] \n",
    "print(pos)"
   ]
  },
  {
   "cell_type": "code",
   "execution_count": 75,
   "metadata": {},
   "outputs": [
    {
     "name": "stdout",
     "output_type": "stream",
     "text": [
      "Das der PRON PDS sb Xxx True True der\n",
      "ist sein AUX VAFIN ROOT xxx True True sein\n",
      "ein einen DET ART nk xxx True True einen\n",
      "Beispielsatz Beispielsatz NOUN NN pd Xxxxx True False beispielsatz\n",
      "für für ADP APPR mnr xxx True True für\n",
      "eine einen DET ART nk xxxx True True einen\n",
      "Vorverarbeitung Vorverarbeitung NOUN NN nk Xxxxx True False vorverarbeitung\n",
      ". . PUNCT $. punct . False False .\n",
      "Übermorgen Übermorgen VERB VVPP pd Xxxxx True False übermorgen\n",
      "ist sein AUX VAFIN ROOT xxx True True sein\n",
      "schönes schön ADJ ADJA nk xxxx True False schön\n",
      "Wetter Wetter NOUN NN sb Xxxxx True False wetter\n",
      ". . PUNCT $. punct . False False .\n",
      "Meine Meine DET PPOSAT nk Xxxxx True True meine\n",
      "E-Mail E-Mail NOUN NN sb X-Xxxx False False e-mail\n",
      "lautet lauten VERB VVFIN ROOT xxxx True False lauten\n",
      ": : PUNCT $. punct : False False :\n",
      "max.mustermann@gmx.de max.mustermann@gmx.de PROPN NE oc xxx.xxxx@xxx.xx False False max.mustermann@gmx.de\n",
      "? ? PUNCT $. punct ? False False ?\n",
      "! ! PUNCT $. punct ! False False !\n"
     ]
    }
   ],
   "source": [
    "for token in doc:\n",
    "    print(token.text, token.lemma_, token.pos_, token.tag_, token.dep_,\n",
    "            token.shape_, token.is_alpha, token.is_stop, token.lemma_.lower())"
   ]
  },
  {
   "cell_type": "markdown",
   "metadata": {},
   "source": [
    "- Text: The original word text.\n",
    "- Lemma: The base form of the word.\n",
    "- POS: The simple UPOS part-of-speech tag.\n",
    "- Tag: The detailed part-of-speech tag.\n",
    "- Dep: Syntactic dependency, i.e. the relation between tokens.\n",
    "- Shape: The word shape – capitalization, punctuation, digits.\n",
    "- is alpha: Is the token an alpha character?\n",
    "- is stop: Is the token part of a stop list, i.e. the most common words of the language?"
   ]
  }
 ],
 "metadata": {
  "kernelspec": {
   "display_name": "Python 3",
   "language": "python",
   "name": "python3"
  },
  "language_info": {
   "codemirror_mode": {
    "name": "ipython",
    "version": 3
   },
   "file_extension": ".py",
   "mimetype": "text/x-python",
   "name": "python",
   "nbconvert_exporter": "python",
   "pygments_lexer": "ipython3",
   "version": "3.8.5"
  }
 },
 "nbformat": 4,
 "nbformat_minor": 4
}
