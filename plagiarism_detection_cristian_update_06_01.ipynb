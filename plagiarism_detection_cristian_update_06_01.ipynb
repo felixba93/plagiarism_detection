{
 "cells": [
  {
   "cell_type": "markdown",
   "metadata": {},
   "source": [
    "# Wikipedia Corpus\n",
    "\n",
    "Corpus from: https://dumps.wikimedia.org/dewiki/20200820/\n",
    "\n",
    "Sentences for comparison from: https://github.com/t-systems-on-site-services-gmbh/german-wikipedia-text-corpus"
   ]
  },
  {
   "cell_type": "code",
   "execution_count": 1,
   "metadata": {},
   "outputs": [],
   "source": [
    "#imports\n",
    "from xml.etree.ElementTree import *\n",
    "import xml.etree.ElementTree as ET\n",
    "from collections import Counter\n",
    "import os\n",
    "import pprint\n",
    "import gensim\n",
    "from gensim import corpora\n",
    "from gensim import models\n",
    "from gensim import similarities\n",
    "from gensim.corpora import Dictionary\n",
    "from gensim.models import LdaModel\n",
    "from gensim.models import LdaMulticore\n",
    "import nltk\n",
    "from nltk.corpus import stopwords\n",
    "from smart_open import open \n",
    "import spacy\n",
    "import de_core_news_md"
   ]
  },
  {
   "cell_type": "code",
   "execution_count": 2,
   "metadata": {},
   "outputs": [],
   "source": [
    "number_objects = 200\n",
    "number_corpus_object = 50"
   ]
  },
  {
   "cell_type": "markdown",
   "metadata": {},
   "source": [
    "## Preprocessing:"
   ]
  },
  {
   "cell_type": "markdown",
   "metadata": {},
   "source": [
    "1. Lade das Language-Modell \"de_core_news_xx\" von Spacy\n",
    "2. Erstelle die Funktion \"preprocess_text in die das Object \"text\" verarbeiet wird\n",
    "3. Aufrufen von \"text\" mit dem Language-Modell. Das Modell wandelt \"text\" in Tokens um -> \"prep_text\"\n",
    "4. In \"prep-tokens\" werden durch eine Schleife, alle Tokens von \"prep_text\" gespeichert\n",
    "    4.1 Entferne Stopwörter in Tokens \n",
    "    4.2 Lemmatisiere diese\n",
    "    4.3 Schreibe alles klein\n",
    "5. Zurückgegeben werden alle Tokens, ohne Stopwörter, in lemma Form, klein geschrieben des Inputs \"text\""
   ]
  },
  {
   "cell_type": "code",
   "execution_count": 3,
   "metadata": {},
   "outputs": [],
   "source": [
    "# load the language model from spacy\n",
    "spacy_data = de_core_news_md.load()\n",
    "\n",
    "def preprocess_text(text):\n",
    "    # load and tokenize text\n",
    "    prep_text = spacy_data(text)\n",
    "    # list for tokens\n",
    "    prep_tokens = []\n",
    "    # for every token in text\n",
    "    for token in prep_text:\n",
    "        # remove stopwords and punctuatiuon\n",
    "        if token.pos_ != 'PUNCT' and token.is_stop == False:\n",
    "            # lemmatize and transform to lowercase\n",
    "            lemma_token = token.lemma_.lower()\n",
    "            # remove non-alphabetic tokens\n",
    "            if lemma_token.isalpha() or lemma_token == '-PRON-':\n",
    "                prep_tokens.append(lemma_token)\n",
    "    # return preprocessed text \n",
    "    return prep_tokens"
   ]
  },
  {
   "cell_type": "markdown",
   "metadata": {},
   "source": [
    "## Build the corpus"
   ]
  },
  {
   "cell_type": "markdown",
   "metadata": {},
   "source": [
    "Create a corpus from the text contents of the XML file:\n",
    "\n",
    "First test:\n",
    "\n",
    "Print text from \\<text>:"
   ]
  },
  {
   "cell_type": "code",
   "execution_count": 4,
   "metadata": {},
   "outputs": [],
   "source": [
    "xml_file = \"/Volumes/MAINZ_BB/dewiki-20200820-pages-articles-multistream.xml\""
   ]
  },
  {
   "cell_type": "markdown",
   "metadata": {},
   "source": [
    "Object-Stream Test"
   ]
  },
  {
   "cell_type": "raw",
   "metadata": {
    "scrolled": true
   },
   "source": [
    "index = 0\n",
    "for event, elem in ET.iterparse(xml_file, events = (\"start\", \"end\")):\n",
    "    if index < 3:\n",
    "        if event == 'end' and \"text\" in elem.tag:\n",
    "            prep_tokens = preprocess_text(elem.text)\n",
    "            print(prep_tokens)\n",
    "            elem.clear()\n",
    "           index += 1    \n",
    "    else:\n",
    "        break       \n"
   ]
  },
  {
   "cell_type": "markdown",
   "metadata": {},
   "source": [
    "1. Erstelle Klasse \"MyCorpus\"\n",
    "2. Funktion \"_iter_\" nimmt den Imput \"self\" als Generator\n",
    "3. Schleife durchläuft alle Elemente der XML-Datei. Events als \"start\" und \"end\" darstellen.\n",
    "    3.1 Das Document wird dargestellt als Text zwischen \"text\" Tags der XML-Datei\n",
    "    3.2 Gib jedes gefundene Objekt an Generatror zurück \n",
    "    3.3 Lösche die das verarbeitete Objekt"
   ]
  },
  {
   "cell_type": "markdown",
   "metadata": {},
   "source": [
    "Now define the corpus:"
   ]
  },
  {
   "cell_type": "raw",
   "metadata": {},
   "source": [
    "# Define the corpus as an object\n",
    "class MyCorpus:\n",
    "    def __iter__(self):\n",
    "        # define the XML tree\n",
    "        for event, elem in ET.iterparse(xml_file, events = (\"start\", \"end\")):            \n",
    "            # Each document is represented as an object between <text> tags in the xml file\n",
    "            if event == 'end' and \"text\" in elem.tag:\n",
    "                # Transfom the corpus to vectors\n",
    "                yield dictionary.doc2bow(preprocess_text(elem.text))\n",
    "                elem.clear()"
   ]
  },
  {
   "cell_type": "markdown",
   "metadata": {},
   "source": [
    "1. Klasse \"Mycorpus_small\"\n",
    "2. Funktion \"_iter_\" nimmt den Imput \"self\" als Generator\n",
    "3. Schleife durchläuft alle Elemente der XML-Datei. Events als \"start\" und \"end\" darstellen.\n",
    "    3.1 Das Document wird dargestellt als Text zwischen \"text\" Tags der XML-Datei\n",
    "    3.2 verarbeite nur die ersten 200 Objekte\n",
    "    3.3 Gib jedes gefundene Objekt an Generatror zurück \n",
    "    3.4 Zähl Index hoch\n",
    "    3.5 Lösche die das verarbeitete Objekt"
   ]
  },
  {
   "cell_type": "code",
   "execution_count": 5,
   "metadata": {},
   "outputs": [],
   "source": [
    "# Define a smaller corpus, containing only the first 200 documents:\n",
    "class MyCorpus_small:\n",
    "    def __iter__(self):\n",
    "        index = 0\n",
    "        # define the XML tree\n",
    "        for event, elem in ET.iterparse(xml_file, events = (\"start\", \"end\")):\n",
    "            if index < number_corpus_object:\n",
    "                # Each document is represented as an object between <text> tags in the xml file\n",
    "                if event == 'end' and \"text\" in elem.tag:\n",
    "                    # Transfom the corpus to vectors\n",
    "                    yield dictionary.doc2bow(preprocess_text(elem.text))\n",
    "                    index+=1\n",
    "                    elem.clear()\n",
    "            else:\n",
    "                break"
   ]
  },
  {
   "cell_type": "raw",
   "metadata": {},
   "source": [
    "# Initialize the corpus, without loading it into memory\n",
    "corpus = MyCorpus()"
   ]
  },
  {
   "cell_type": "code",
   "execution_count": 6,
   "metadata": {},
   "outputs": [],
   "source": [
    "corpus_small = MyCorpus_small()"
   ]
  },
  {
   "cell_type": "markdown",
   "metadata": {},
   "source": [
    "---"
   ]
  },
  {
   "cell_type": "markdown",
   "metadata": {},
   "source": [
    "Get texts from the XML File\n",
    "Einsellen wie viele Artikel geladen werden sollen"
   ]
  },
  {
   "cell_type": "code",
   "execution_count": 7,
   "metadata": {},
   "outputs": [
    {
     "name": "stdout",
     "output_type": "stream",
     "text": [
      "CPU times: user 52.6 ms, sys: 2.86 ms, total: 55.4 ms\n",
      "Wall time: 64.7 ms\n"
     ]
    }
   ],
   "source": [
    "%%time\n",
    "text_ids = {}\n",
    "texts = []\n",
    "index = 0\n",
    "for event, elem in ET.iterparse(xml_file, events = (\"start\", \"end\")):        \n",
    "    if index < number_objects:\n",
    "        if event == 'end' and \"text\" in elem.tag:\n",
    "            text_ids[index]=str(elem.text)\n",
    "            index += 1  \n",
    "            texts.append(str(elem.text))\n",
    "            elem.clear()\n",
    "    else:\n",
    "        break\n"
   ]
  },
  {
   "cell_type": "markdown",
   "metadata": {},
   "source": [
    "---"
   ]
  },
  {
   "cell_type": "markdown",
   "metadata": {},
   "source": [
    "## Build the Dictionary"
   ]
  },
  {
   "cell_type": "markdown",
   "metadata": {},
   "source": [
    "def build_dictionary(xml_file):\n",
    "    index = 0\n",
    "    first_elem = True\n",
    "    for event, elem in ET.iterparse(xml_file, events = (\"start\", \"end\")):        \n",
    "        if index < number_objects:\n",
    "            if event == \"end\" and \"text\" in elem.tag:\n",
    "                text = preprocess_text(elem.text)\n",
    "                if first_elem:\n",
    "                    dictionary = Dictionary([text])\n",
    "                    first_elem = False\n",
    "                    index += 1\n",
    "                else:\n",
    "                    dictionary.add_documents([text])\n",
    "                    index += 1\n",
    "                elem.clear()\n",
    "        else:\n",
    "            break\n",
    "    return dictionary"
   ]
  },
  {
   "cell_type": "raw",
   "metadata": {},
   "source": [
    "%%time\n",
    "# build the dictionary:\n",
    "dictionary = build_dictionary(xml_file)"
   ]
  },
  {
   "cell_type": "raw",
   "metadata": {},
   "source": [
    "%%time\n",
    "# remove words that appear only once\n",
    "once_ids = [tokenid for tokenid, docfreq in dictionary.dfs.items() if docfreq == 1]\n",
    "dictionary.filter_tokens(once_ids)\n",
    "# remove gaps in id sequence after words that were removed\n",
    "dictionary.compactify()"
   ]
  },
  {
   "cell_type": "raw",
   "metadata": {},
   "source": [
    "#save the dictionary\n",
    "dictionary.save('data/wiki.dict')"
   ]
  },
  {
   "cell_type": "code",
   "execution_count": 8,
   "metadata": {},
   "outputs": [],
   "source": [
    "#load the dictionary\n",
    "dictionary = Dictionary.load('data/wiki.dict')"
   ]
  },
  {
   "cell_type": "code",
   "execution_count": 9,
   "metadata": {},
   "outputs": [
    {
     "name": "stdout",
     "output_type": "stream",
     "text": [
      "Dictionary(20309 unique tokens: ['abc', 'abkehr', 'ablehnen', 'abrufen', 'abschluss']...)\n"
     ]
    }
   ],
   "source": [
    "print(dictionary)"
   ]
  },
  {
   "cell_type": "raw",
   "metadata": {},
   "source": [
    "%%time\n",
    "test_corpus = [dictionary.doc2bow(preprocess_text(text)) for text in texts]"
   ]
  },
  {
   "cell_type": "markdown",
   "metadata": {},
   "source": [
    "---"
   ]
  },
  {
   "cell_type": "markdown",
   "metadata": {},
   "source": [
    "## Similarity with LDA (Latent Dirichlet Allocation)"
   ]
  },
  {
   "cell_type": "markdown",
   "metadata": {},
   "source": [
    "### Train the LDA model"
   ]
  },
  {
   "cell_type": "markdown",
   "metadata": {},
   "source": [
    "Parameters:\n",
    "* corpus: the corpus\n",
    "* num_topics: topics to be extracted from the training corpus\n",
    "* id2word: id to word mapping, the dictionary\n",
    "* workers: number of cpu cores used"
   ]
  },
  {
   "cell_type": "markdown",
   "metadata": {},
   "source": [
    "Currently not working with the streamed corpus. test_corpus is a temporary solution (hopefully) which contains the first 200 documents, manually added to a list."
   ]
  },
  {
   "cell_type": "code",
   "execution_count": 10,
   "metadata": {},
   "outputs": [],
   "source": [
    "corpus_small_vectors = []\n",
    "for vector in corpus_small:\n",
    "        corpus_small_vectors.append(vector)"
   ]
  },
  {
   "cell_type": "raw",
   "metadata": {},
   "source": [
    "%%time\n",
    "lda = LdaMulticore(corpus_small_vectors, num_topics=number_objects, id2word=dictionary)"
   ]
  },
  {
   "cell_type": "markdown",
   "metadata": {},
   "source": [
    "First experiments have shown that a topic number of 10 (default) is too low. 100 resulted in better disctinction between the different articles.\n",
    "__Further fine tuning needed here__"
   ]
  },
  {
   "cell_type": "raw",
   "metadata": {},
   "source": [
    "#save the index\n",
    "lda.save(\"data/index_wiki.txt\")"
   ]
  },
  {
   "cell_type": "code",
   "execution_count": 11,
   "metadata": {},
   "outputs": [],
   "source": [
    "#load the dictionary\n",
    "lda = LdaModel.load(\"data/index_wiki.txt\")"
   ]
  },
  {
   "cell_type": "raw",
   "metadata": {},
   "source": [
    "#debug\n",
    "doc_bow = [(0,1),(0,1)]\n",
    "lda[doc_bow]"
   ]
  },
  {
   "cell_type": "code",
   "execution_count": 19,
   "metadata": {},
   "outputs": [
    {
     "name": "stdout",
     "output_type": "stream",
     "text": [
      "CPU times: user 426 ms, sys: 841 ms, total: 1.27 s\n",
      "Wall time: 238 ms\n"
     ]
    }
   ],
   "source": [
    "%%time\n",
    "corpus_index = similarities.MatrixSimilarity(lda[corpus_small_vectors], num_features=len(dictionary))"
   ]
  },
  {
   "cell_type": "code",
   "execution_count": 63,
   "metadata": {
    "scrolled": true
   },
   "outputs": [],
   "source": [
    "test_doc_raw = texts[2]\n",
    "test_vec = dictionary.doc2bow(preprocess_text(test_doc_raw))\n",
    "#print(test_vec)\n",
    "# convert to lda space\n",
    "test_vec_lda = lda[test_vec]\n",
    "#print(test_vec_lda)"
   ]
  },
  {
   "cell_type": "code",
   "execution_count": 64,
   "metadata": {
    "scrolled": true
   },
   "outputs": [],
   "source": [
    "sims = corpus_index[test_vec_lda]\n",
    "plagiarism_id = max(list(enumerate(sims)), key=lambda x:x[1])[0]\n",
    "plagiarism_weight = max(list(enumerate(sims)), key=lambda x:x[1])[1]"
   ]
  },
  {
   "cell_type": "markdown",
   "metadata": {},
   "source": [
    "<h2><b>Ergebnis der Plagiatsprüfung</b></h2>"
   ]
  },
  {
   "cell_type": "code",
   "execution_count": 65,
   "metadata": {},
   "outputs": [
    {
     "name": "stdout",
     "output_type": "stream",
     "text": [
      "Plagiat gefunden: \n",
      "[[Datei:Ang Lee - 66eme Festival de Venise (Mostra) 2.jpg|mini|hochkant|Ang Lee, 2009]]\n",
      "'''Ang Lee''' ({{zh|c=李安|p=Lǐ Ān}}; * [[23. Oktober]] [[1954]] in [[Chaozhou (Pingtung)|Chaozhou]],<ref>{{Internetquelle |url=http://www.taipeitimes.com/News/taiwan/archives/2006/03/07/2003296130 |titel=Family and friends praise Ang Lee's quiet dedication – Taipei Times |abruf=2018-09-17}}</ref> [[Landkreis Pingtung]], [[Republik China (Taiwan)]]) ist ein taiwanischer [[Filmregisseur]], [[Drehbuchautor]] und Produzent.<ref name=\"GreenCard\">{{Internetquelle|url=https://www.youtube.com/watch?v=7p9vRrzQ7-U|titel=2016.11.12中天的夢想驛站完整版　戰爭人性與電影科技　李安：視覺對我是信仰|werk=Chung T’ien Television|datum=2016-11-12|abruf=2019-12-02|sprache=zh}}</ref> Er ist als vielfach ausgezeichneter Regisseur bekannt für so unterschiedliche Filme wie ''[[Eat Drink Man Woman]]'', die Jane-Austen-Adaption ''[[Sinn und Sinnlichkeit (1995)|Sinn und Sinnlichkeit]]'' und den Martial Arts-Film ''[[Tiger and Dragon]]''. Für seine Filme ''[[Brokeback Mountain]]'' (2005) und ''[[Life of Pi: Schiffbruch mit Tiger]]'' (2012) wurde er jeweils mit dem [[Oscar]] in der Kategorie ''Beste Regie'' ausgezeichnet.\n",
      "\n",
      "== Leben ==\n",
      "Ang Lee wurde 1954 in [[Republik China (Taiwan)|Taiwan]] geboren. Seine Eltern, Emigranten aus [[Volksrepublik China|China]], lernten sich in Taiwan kennen, Lee ist ihr ältester Sohn. Die Großeltern väterlicher- und mütterlicherseits sind im Zuge der kommunistischen Revolution in China ums Leben gekommen. Da sein Vater als Lehrer häufiger die Arbeitsstelle wechselte, wuchs Ang Lee in verschiedenen Städten Taiwans auf.\n",
      "\n",
      "Entgegen den Wünschen seiner Eltern, wie sein Vater eine klassische akademische Laufbahn einzuschlagen, interessierte sich Lee für das Schauspiel und absolvierte mit ihrem Einverständnis zunächst ein Theater- und Filmstudium in [[Taipeh]]. Im Anschluss daran ging er 1978 in die [[Vereinigte Staaten von Amerika|USA]], um an der [[University of Illinois|Universität von Illinois]] in [[Urbana (Illinois)|Urbana]]-[[Champaign (Illinois)|Champaign]] Theaterwissenschaft und -regie zu studieren. Nach dem Erwerb seines [[Bachelor#Vereinigte Staaten|B.A.]] in Illinois verlegte er sich ganz auf das Studium der Film- und Theaterproduktion an der [[New York University|Universität von New York]], das er 1985 mit einem [[Master]] abschloss. Danach entschloss er sich, mit seiner ebenfalls aus Taiwan stammenden Ehefrau zusammen in den USA zu bleiben.\n",
      "\n",
      "Sein Interesse verschob sich trotz erster Erfahrungen mit dem [[Super 8 (Filmformat)|Super-8-Film]] in Taiwan<ref name=\"pekler\">Michael Pekler, Andreas Ungerböck: ''Ang Lee und seine Filme''. Schüren, Marburg 2009.</ref> erst spät ganz auf Filmregie und -produktion – auch weil Lee seinen Berufswunsch seiner Familie und insbesondere seinem Vater gegenüber lange Zeit nicht eingestehen wollte.<ref name=\"duchronik\">Christoph Schneider: ''Chronik von Leben und Werk''. In: ''Ang Lee und sein Kino. Poesie im Grossformat''. In: ''du'' 796 (Feb. 2006), S.&nbsp;64–70.</ref>\n",
      "Nach dem Studium konnte er zunächst keine eigenen Projekte umsetzen. Erst ab 1992, als er seinen ersten Langfilm fertigstellte, zeichnete sich eine kontinuierliche Karriere als Regisseur ab.\n",
      "\n",
      "Als seine bisher größte Erfolge – sowohl beim Publikum als auch bei der Kritik – gelten das Martial Arts-Drama ''[[Tiger and Dragon]]'' mit einer pan-asiatischen Starbesetzung und der Post-Western-Liebesfilm ''[[Brokeback Mountain]]'' mit [[Heath Ledger]] und [[Jake Gyllenhaal]]. Für Letzteren bekam Lee 2006 als erster asiatisch-stämmiger und nicht-weißer Regisseur den Oscar für die beste Regie. Außerdem wurden Lees Filme, neben vielen weiteren Preisen, mit mittlerweile zwei [[Goldener Bär|Goldenen Bären]] der [[Internationale Filmfestspiele Berlin|Berlinale]] und zwei [[Goldener Löwe|Goldenen Löwen]] der [[Internationale Filmfestspiele von Venedig|Filmfestspiele von Venedig]] ausgezeichnet.\n",
      "\n",
      "Lee ist seit 1983 mit der Mikrobiologin Jane Lin verheiratet. Sie leben in [[White Plains (New York)|White Plains]], [[Westchester County]], im Bundesstaat [[New York (Bundesstaat)|New York]]. Aus der Ehe stammen die Söhne Haan (* 1984) und [[Mason Lee|Mason]] (* 1990).  Ang Lee besitzt eine [[United States Permanent Resident Card]].<ref name=\"GreenCard\" />\n",
      "\n",
      "== Filmisches Werk ==\n",
      "Nach seinen ersten Filmerfahrungen in Taiwan setzte sich Lee erst wieder während seines Studiums in den USA ernsthaft mit dem Filmemachen auseinander. Im Rahmen seines Studiums in New York drehte er einige Kurzfilme und wirkte unter anderem beim Abschlussdreh seines Studienkollegen [[Spike Lee]] als Regieassistent mit. Sein eigener Abschlussfilm ''[[Fine Line]]'' gewann 1985 zwei Preise beim renommierten Filmfest seiner Universität.<ref name=\"duchronik\" /> Erst 1992 gelang es ihm, nach dem Gewinn eines hochdotierten Drehbuchwettbewerbs in Taiwan, den ersten einer Reihe von drei Filmen zu drehen, die west-östliche Konflikte taiwanischer Familien zum Thema haben.\n",
      "\n",
      "=== 1992–1994: Die „Father-Knows-Best“-Trilogie ===\n",
      "Diese ersten drei Langfilme, die Lee realisieren konnte, werden im Allgemeinen unter dem Begriff ''Father Knows Best'' gefasst.<ref>Michael Pekler und Andreas Ungerböck merken dazu ironisch an, dass man die Trilogie besser mit “Father Thinks He Knows Best” titulieren könne, da die Patriarchen keineswegs für alles eine Lösung haben, vgl. Michael Pekler, Andreas Ungerböck: ''Ang Lee und seine Filme''. Schüren, Marburg 2009, S. 17.</ref> Diese Bezeichnung geht auf die wiederkehrende Figur des chinesischen Familienoberhaupts, gespielt jeweils vom taiwanischen Schauspieler [[Sihung Lung]], zurück. Die drei Filme thematisieren, wie später noch öfter bei Ang Lee, familiäre Probleme, die aus dem Konflikt zwischen Selbstbestimmung und Tradition, zwischen Innen und Außen, zwischen Ost und West sowie zwischen den Generationen herrühren. Die Filme sind allesamt US-amerikanisch-taiwanische Koproduktionen. Anders als bei allen bislang folgenden Projekten handelt es sich bei den ersten Filmen Lees nicht um Adaptionen, sondern um Filme nach von ihm selbst geschriebenen Originaldrehbüchern.\n",
      "\n",
      "Der erste Film, ''[[Schiebende Hände]]'' (1992), handelt vom Einzug eines chinesischen Vaters bei seinem erwachsenen Sohn und der US-amerikanischen Schwiegertochter in New York und den interkulturellen Problemen, die in der neuen Wohngemeinschaft entstehen. Dies war die erste Zusammenarbeit zwischen Lee und dem Drehbuchautor und Produzenten [[James Schamus]] – seitdem bildeten die beiden bei jedem Film Lees eine enge Arbeitsgemeinschaft. Wie in den beiden folgenden Filmen schrieben sie auch gemeinsam das Drehbuch.<ref>Für ''Das Hochzeitsbankett'' zeichnete zusätzlich Neil Peng, für ''Eat Drink Man Woman'' Hui-Ling Wang verantwortlich.</ref> In allen weiteren Filmen Lees (mit Ausnahme des Kurzfilms ''[[Chosen (Film)|The Hire: Chosen]]'') hat Schamus seither entscheidende Funktionen ausgeübt.\n",
      "\n",
      "Auch die regelmäßige Zusammenarbeit mit dem Filmeditor [[Tim Squyres]] nahm in Lees Erstling ihren Anfang. Mit Ausnahme des Erfolgsfilms ''Brokeback Mountain'' von 2005 hat Squires jeden Film, den Ang Lee gedreht hat, geschnitten.\n",
      "\n",
      "Nach dem Erfolg seines Erstlings konnte Lee als Nächstes ''[[Das Hochzeitsbankett]]'' (1993) drehen, eine Komödie über die fingierte Eheschließung eines homosexuellen Exil-Taiwaners in den USA. Erneut taucht hier die Figur des strengen, aber weisen Familienoberhaupts auf. Hatte ''Schiebende Hände'' zunächst vor allem in Taiwan für Aufmerksamkeit (und Preise) gesorgt, wurde mit dem zweiten Langfilm Lees auch Europa auf den aufstrebenden Regisseur aufmerksam:<ref name=\"duchronik\" /> Der Film erhielt bei der [[Internationale Filmfestspiele Berlin|Berlinale]] 1993 den ''Goldenen Bären'' als ''Bester fremdsprachiger Film'' und war zudem für einen [[Oscar]] nominiert. Er gilt darüber hinaus als einer der profitabelsten [[Low-Budget-Film]]e des Jahres 1993. Mit nur einer Million US-Dollar Produktionskosten erzielte er ein Einspielergebnis von über 23&nbsp;Millionen US-Dollar.<ref>Isabell Gössele: ''Das Kino des Ang Lee – Im Atem des verborgenen Drachen''. Tectum, Marburg, 2009, S. 72.</ref>\n",
      "\n",
      "Sihung Lung ist auch im letzten Teil der Trilogie, ''[[Eat Drink Man Woman]]'' (1994), die „kongeniale Verkörperung des chinesischen Familienoberhaupts“,<ref>Pekler, Ungerböck 2009, S. 19.</ref> das „Zentrum dieser Maskeraden, in denen es darum geht, ein altes Gesicht zu wahren und dann zu lernen, es zu verlieren, um ein neues, lebenstauglicheres zu gewinnen.“<ref>Christoph Schneider: ''Chronik von Leben und Werk''. In: ''Ang Lee und sein Kino. Poesie im Grossformat''. In: ''du'' 796 (Feb. 2006), S.&nbsp;65.</ref> Dieses Mal ist er der verwitwete Vater dreier Töchter, die ihr Leben und ihre Lieben auf unterschiedliche Art angehen und dabei ebenfalls innerfamiliäre Konflikte klären müssen. ''Eat Drink Man Woman'' wurde, anders als seine Vorgänger, in [[Taipeh]] gedreht. Im Mittelpunkt des Films stehen (der Titel deutet es an) die Liebe und das Essen. Ang Lee, privat ein passionierter Koch, legte hierbei besonders großen Wert auf die kulinarische Komponente als Stilmittel<ref>Pekler, Ungerböck 2009, S. 135 f.</ref> und konzipierte die Hauptfigur des älteren Witwers als berühmten Koch.\n",
      "\n",
      "=== 1995–1999: Dreimal anglo-amerikanische Geschichte ===\n",
      "Mit dem Angebot der Produzentin [[Lindsay Doran]], die von der britischen Schauspielerin [[Emma Thompson]] verfasste Adaption des Romans ''[[Verstand und Gefühl]]'' von [[Jane Austen]] in Großbritannien zu drehen, eröffnete sich Lee eine lange ersehnte neue Perspektive jenseits asiatisch geprägter Stoffe.\n",
      "\n",
      "In einer neuen Trilogie setzt er sich mit unterschiedlichen Kulturen auseinander:\n",
      "* ''[[Sinn und Sinnlichkeit (1995)|Sinn und Sinnlichkeit]]'' ist die Verfilmung des Romans der englischen Schriftstellerin Jane Austen;\n",
      "* ''[[Der Eissturm]]'' spielt in den USA der 1970er Jahre;\n",
      "* ''[[Ride with the Devil]]'' ist im [[Sezessionskrieg|Amerikanischen Bürgerkrieg]] angesiedelt.\n",
      "\n",
      "=== 2000–heute: Pendeln zwischen West und Ost ===\n",
      "''[[Tiger and Dragon]]'' sowie ''[[Hulk (Film)|Hulk]]'' sind sehr unterschiedliche Action-Filme. Mit ''Tiger and Dragon'' gewann Lee zwei [[Golden Globe]]s. Das Werk wurde außerdem mit vier [[Oscar|Academy Awards]] (Oscars) prämiert, darunter der Trophäe für den besten fremdsprachigen Film. Für diesen Film wurde er 2001 auch mit einem [[Chlotrudis Award]] ausgezeichnet, seinen zweiten Chlotrudis erhielt er 2006 für ''Brokeback Mountain''.\n",
      "\n",
      "Für ''[[Brokeback Mountain]]'' wurde Lee mit einer Vielzahl von Filmpreisen geehrt, darunter mit dem [[Oscar]] für die beste Regie, dem [[Goldener Löwe|Goldene Löwen]] der [[Filmfestspiele von Venedig 2005|Filmfestspiele von Venedig]] sowie der Auszeichnung der [[Hollywood Foreign Press Association]] als bester Regisseur des Jahres. 2007 verfilmte er mit ''[[Gefahr und Begierde]]'' eine Kurzgeschichte von [[Eileen Chang]]. Der Thriller spielt zur Zeit des [[Zweiter Weltkrieg|Zweiten Weltkriegs]] in [[Shanghai]] und handelt von einer jungen chinesischen Agentin (gespielt von [[Tang Wei]]), die beauftragt wird, einen hochrangigen Verräter ([[Tony Leung Chiu Wai]]) zu liquidieren. Lees erste chinesischsprachige [[Spielfilm]]produktion seit ''Tiger and Dragon'' war 2007 im offiziellen Wettbewerb der [[Internationale Filmfestspiele von Venedig 2007#Preisträger|64.&nbsp;Filmfestspiele von Venedig]] vertreten und brachte ihm erneut den Goldenen Löwen ein. Im selben Jahr wurde ''Gefahr und Begierde'' als offizieller taiwanischer Beitrag für die Nominierung um den [[Oscar/Bester fremdsprachiger Film|besten fremdsprachigen Film]] bei der Oscar-Verleihung 2008 ausgewählt,<ref>Douglas Tseng: ''Shorter version of Lust to be shown here''. In: ''The Straits Times'' (Singapore), 26. September 2007, LIFE! – LIFE BUZZ</ref> später aber auf Empfehlung der [[Academy of Motion Picture Arts and Sciences]] wieder zurückgezogen und durch [[Chen Huai-En]]s ''Lian xi qu''<ref>{{Internetquelle | url=http://www.imdb.com/title/tt1006908 | titel=Lian xi qu | hrsg=[[Internet Movie Database]] |abruf=2015-06-08 |sprache=en}}</ref> ersetzt.\n",
      "\n",
      "Ende Februar 2009 wurde bekannt gegeben, dass Lee die Jury der [[Internationale Filmfestspiele von Venedig 2009|66.&nbsp;Filmfestspiele von Venedig]] leiten werde.<ref>[https://www.fr.de/kultur/wird-jury-praesident-11507437.html Venedig: ''Ang Lee wird Jury-Präsident''] In: ''[[Frankfurter Rundschau|fr-online]]'', 28. Februar 2009, abgerufen am 12. Juni 2019</ref> Zwei Monate später erhielt er für seine Komödie ''Taking Woodstock'' eine Einladung in den Wettbewerb der [[Internationale Filmfestspiele von Cannes 2009|62.&nbsp;Internationalen Filmfestspiele von Cannes]].\n",
      "\n",
      "2013 wurde er in die Wettbewerbsjury des [[Internationale Filmfestspiele von Cannes 2013|66.&nbsp;Filmfestivals von Cannes]] berufen.\n",
      "\n",
      "== Stil ==\n",
      "Ang Lee ist ein international anerkannter und erfolgreicher Regisseur und gilt als einer der vielseitigsten Filmemacher der letzten Jahre. Häufig behandelt Lee in seinen Filmen das Thema Familie auf eine Art und Weise, die autobiographische Züge seines eigenen Lebens trägt. Er lässt seine Umgebung ganz bewusst auf sich einwirken und bringt diese in seine Filme ein.\n",
      "{{Zitat|Meine besten Ideen kommen immer aus dem Nichts. Und manchmal muss ich ins Nichts gehen, damit sie zu mir kommen. Es ist nicht so, dass ich die Augen schließe und Bilder sehe. Die Bilder finden mich.|Autor=Ang Lee|Quelle=ZEIT-Magazin, 27.12.2012}}\n",
      "Kennzeichnend für die meisten seiner Filme ist eine wenig geradlinige Erzählstruktur, die die Charaktere und die Geschichte aus verschiedenen Blickwinkeln darstellt. Er verknüpft die Konflikte des menschlichen Lebens mit traditionellen und innovativen Stilelementen.\n",
      "\n",
      "Für Ang Lee sind die klassisch-soliden Erzählstrukturen zu langweilig, daher kombiniert er verschiedene Genres und Epochen. Er selbst sagte einmal:{{\"|Ich hoffe, ich werde 300 Jahre alt und kann alle Filmgenres ausprobieren, sie mixen und verdrehen und alles über sie lernen.|Autor=Ang Lee|Quelle=<ref>[http://www.arthaus.de/ang_lee Arthaus.de]</ref>}}\n",
      "\n",
      "== Filmografie ==\n",
      "[[Datei:Ang Lee 66ème Festival de Venise (Mostra).jpg|mini|hochkant|Ang Lee bei den [[Internationale Filmfestspiele von Venedig 2009|66.&nbsp;Filmfestspielen von Venedig]] 2009]]\n",
      "* 1982: [[Shades of the Lake]] (Kurzfilm)\n",
      "* 1984: [[Fine Line]] (Kurzfilm)\n",
      "* 1992: [[Schiebende Hände]] ''(Pushing Hands'', ''Tui shou)''\n",
      "* 1993: [[Das Hochzeitsbankett]] ''(The Wedding Banquet'', ''Xi yan)''\n",
      "* 1994: [[Eat Drink Man Woman]] ''(Yin shi nan nu)''\n",
      "* 1995: [[Sinn und Sinnlichkeit (1995)|Sinn und Sinnlichkeit]] ''(Sense and Sensibility)''\n",
      "* 1997: [[Der Eissturm]] ''(The Icestorm)''\n",
      "* 1999: [[Ride with the Devil]]\n",
      "* 2000: [[Tiger and Dragon]] (auch: ''Crouching Tiger, Hidden Dragon'', ''Wo hu cang long)''\n",
      "* 2001: [[Chosen (Film)|The Hire: Chosen]] (Kurzwerbefilm für eine Automarke)\n",
      "* 2003: [[Hulk (Film)|Hulk]]\n",
      "* 2005: [[Brokeback Mountain]]\n",
      "* 2007: [[Gefahr und Begierde]] ''(Sè, jiè)''\n",
      "* 2009: [[Taking Woodstock]]\n",
      "* 2012: [[Life of Pi: Schiffbruch mit Tiger]]<ref>''Schiffbruch mit Zuschauer'' in ''[[Frankfurter Allgemeine Zeitung|FAZ]]'', 24. Dezember 2012, S. 25.</ref>\n",
      "* 2016: [[Die irre Heldentour des Billy Lynn (Film)|Die irre Heldentour des Billy Lynn]] ''(Billy Lynn’s Long Halftime Walk)''\n",
      "* 2019: [[Gemini Man]]\n",
      "\n",
      "== Auszeichnungen (Auswahl) ==\n",
      "\n",
      "=== [[Oscar]]verleihung ===\n",
      "* [[Oscarverleihung 2001|2001]]: '''Auszeichnung''' in der Kategorie [[Oscar/Bester fremdsprachiger Film|Bester fremdsprachiger Film]] für ''Tiger and Dragon''\n",
      "* [[Oscarverleihung 2001|2001]]: Nominierung in der Kategorie ''[[Oscar/Beste Regie|Beste Regie]]'' für ''Tiger and Dragon''\n",
      "* [[Oscarverleihung 2001|2001]]: Nominierung in der Kategorie ''[[Oscar/Bester Film|Bester Film]]'' für ''Tiger and Dragon''\n",
      "* [[Oscarverleihung 2006|2006]]: '''Auszeichnung''' in der Kategorie ''[[Oscar/Beste Regie|Beste Regie]]'' für ''Brokeback Mountain''\n",
      "* [[Oscarverleihung 2013|2013]]: '''Auszeichnung''' in der Kategorie ''[[Oscar/Beste Regie|Beste Regie]]'' für ''Life of Pi: Schiffbruch mit Tiger''\n",
      "* [[Oscarverleihung 2013|2013]]: Nominierung in der Kategorie ''[[Oscar/Bester Film|Bester Film]]'' für ''Life of Pi: Schiffbruch mit Tiger''\n",
      "\n",
      "=== [[Golden Globe Award]] ===\n",
      "* [[Golden Globe Awards 1996|1996]]: Nominierung in der Kategorie ''[[Golden Globe Award/Beste Regie|Beste Regie]]'' für ''Sinn und Sinnlichkeit''\n",
      "* [[Golden Globe Awards 2001|2001]]: '''Auszeichnung''' in der Kategorie ''[[Golden Globe Award/Beste Regie|Beste Regie]]'' für ''Tiger and Dragon''\n",
      "* [[Golden Globe Awards 2006|2006]]: '''Auszeichnung''' in der Kategorie ''[[Golden Globe Award/Beste Regie|Beste Regie]]'' für ''Brokeback Mountain''\n",
      "* [[Golden Globe Awards 2013|2013]]: Nominierung in der Kategorie ''[[Golden Globe Award/Beste Regie|Beste Regie]]'' für ''Life of Pi: Schiffbruch mit Tiger''\n",
      "\n",
      "=== [[Directors Guild of America Award]] ===\n",
      "* 1996: Nominierung in der Kategorie ''Beste Spielfilmregie'' für ''Sinn und Sinnlichkeit''\n",
      "* 2001: '''Auszeichnung''' in der Kategorie ''Beste Spielfilmregie'' für ''Tiger and Dragon''\n",
      "* 2006: '''Auszeichnung''' in der Kategorie ''Beste Spielfilmregie'' für ''Brokeback Mountain''\n",
      "* 2013: Nominierung in der Kategorie ''Beste Spielfilmregie'' für ''Life of Pi: Schiffbruch mit Tiger''\n",
      "\n",
      "=== Weitere Auszeichnungen ===\n",
      "* 1993: [[Goldener Bär]] der Berliner Filmfestspiele für ''Das Hochzeitsbankett''\n",
      "* 1993: [[Golden Horse Film Festival|Golden Horse Beste Regie]] für ''Das Hochzeitsbankett''\n",
      "* 1996: Goldener Bär der Berliner Filmfestspiele für ''Sinn und Sinnlichkeit''\n",
      "* 1997: [[Deutscher Filmpreis|Bundesfilmpreis]] für den [[Deutscher Filmpreis/Bester ausländischer Film|besten ausländischen Film]] mit ''Sinn und Sinnlichkeit''\n",
      "* 2000: [[Golden Horse Film Festival|Golden Horse Bester Film]] für ''Tiger and Dragon''\n",
      "* 2001: [[Hong Kong Film Award]] für ''Tiger and Dragon''\n",
      "* 2002: Aufnahme in die [[American Academy of Arts and Sciences]]\n",
      "* 2005: [[Goldener Löwe]] des Filmfestivals in Venedig für ''Brokeback Mountain''\n",
      "* 2007: [[Golden Horse Film Festival|Golden Horse Beste Regie]] für ''Gefahr und Begierde''\n",
      "* 2007: Goldener Löwe des Filmfestivals in Venedig für ''Gefahr und Begierde''\n",
      "\n",
      "== Siehe auch ==\n",
      "* [[Taiwanischer Film]]\n",
      "* [[US-amerikanischer Film]]\n",
      "\n",
      "== Literatur ==<!-- chronologisch -->\n",
      "* Tanja Hanhart (Redaktorin): ''Ang Lee und sein Kino. Poesie im Grossformat.'' In: ''du'' 796 (Feb. 2006), ISBN 978-3-03717-021-2.\n",
      "* [[Thomas Koebner]]: [Artikel] ''Ang Lee.'' In: Ders. (Hrsg.): ''Filmregisseure. Biographien, Werkbeschreibungen, Filmographien.'' Mit 109 Abbildungen. 3., aktualisierte und erweiterte Auflage. Reclam, Stuttgart 2008 [1. Aufl. 1999], ISBN 978-3-15-010662-4, S. 429–433.\n",
      "* Qin Hu: ''Das Kino von Ang Lee – Von der chinesischen Philosophie, Kunstauffassung und Kultur zu filmästhetischen Aspekten.'' Gardez! Verlag, 2008.\n",
      "* Michael Pekler, Andreas Ungerböck: ''Ang Lee und seine Filme.'' Schüren, Marburg 2009, ISBN 978-3-89472-665-2.\n",
      "* Isabell Gössele: ''Das Kino des Ang Lee – Im Atem des verborgenen Drachen.'' Tectum, Marburg 2009, ISBN 978-3-8288-2046-3.\n",
      "\n",
      "== Weblinks ==\n",
      "{{Commonscat}}\n",
      "* {{IMDb|nm0000487}}\n",
      "* {{DNB-Portal|119317079}}\n",
      "* {{Munzinger|00000021815|Ang Lee}}\n",
      "* [http://www.whoswho.de/templ/te_bio.php?PID=1193&RID=1 Ang Lee Biografie] bei WHO’S WHO\n",
      "* [http://www.spiegel.de/kultur/kino/0,1518,511914,00.html ''„Wenn du Erfolg hast, missbrauche ihn!“''] In: ''[[Spiegel Online]]'', 17. Oktober 2007, Interview\n",
      "* [http://www.critic.de/interview/der-subtext-des-western-1319/ Der Subtext des Western], Interview auf critic.de\n",
      "* Ralph Geisenhanslüke: [http://www.zeit.de/2013/01/Traum-Ang-Lee ''Regisseur Ang Lee: „Ich wollte immer meinen Vater stolz machen“''] In: [[Die Zeit|Zeit]], 1. Januar 2013, Interview\n",
      "* Andreas Kilb: [http://www.faz.net/aktuell/feuilleton/dem-filmregisseur-ang-lee-zum-sechzigsten-13224002.html ''Ang Lee zum Sechzigsten. Die Zerbrechlichkeit der Welt.''] In: [[Frankfurter Allgemeine Zeitung|FAZ]], 23. Oktober 2014\n",
      "\n",
      "== Einzelnachweise ==\n",
      "<references />\n",
      "\n",
      "{{Normdaten|TYP=p|GND=119317079|LCCN=no/94/38345|VIAF=69129224|NDL=00514529}}\n",
      "\n",
      "{{SORTIERUNG:Lee, Ang}}\n",
      "[[Kategorie:Ang Lee| ]]\n",
      "[[Kategorie:Drehbuchautor]]\n",
      "[[Kategorie:Filmregisseur]]\n",
      "[[Kategorie:Oscarpreisträger]]\n",
      "[[Kategorie:Golden-Globe-Preisträger]]\n",
      "[[Kategorie:Person als Namensgeber für einen Asteroiden]]\n",
      "[[Kategorie:Mitglied der American Academy of Arts and Sciences]]\n",
      "[[Kategorie:Taiwaner]]\n",
      "[[Kategorie:Geboren 1954]]\n",
      "[[Kategorie:Mann]]\n",
      "\n",
      "{{Personendaten\n",
      "|NAME=Lee, Ang\n",
      "|ALTERNATIVNAMEN=李安 (chinesisch); Lǐ Ān (chinesisch)\n",
      "|KURZBESCHREIBUNG=taiwanischer Regisseur und Drehbuchautor\n",
      "|GEBURTSDATUM=23. Oktober 1954\n",
      "|GEBURTSORT=[[Chaozhou (Pingtung)|Chaozhou]], [[Landkreis Pingtung]], Taiwan\n",
      "|STERBEDATUM=\n",
      "|STERBEORT=\n",
      "}}\n"
     ]
    }
   ],
   "source": [
    "if plagiarism_weight >= 0.75:\n",
    "    print(\"Plagiat gefunden: \")\n",
    "    print(texts[plagiarism_id])\n",
    "else:\n",
    "    print(\"Kein Plagiat gefunden\")"
   ]
  },
  {
   "cell_type": "code",
   "execution_count": null,
   "metadata": {},
   "outputs": [],
   "source": []
  }
 ],
 "metadata": {
  "kernelspec": {
   "display_name": "Python 3",
   "language": "python",
   "name": "python3"
  },
  "language_info": {
   "codemirror_mode": {
    "name": "ipython",
    "version": 3
   },
   "file_extension": ".py",
   "mimetype": "text/x-python",
   "name": "python",
   "nbconvert_exporter": "python",
   "pygments_lexer": "ipython3",
   "version": "3.8.2"
  }
 },
 "nbformat": 4,
 "nbformat_minor": 4
}
